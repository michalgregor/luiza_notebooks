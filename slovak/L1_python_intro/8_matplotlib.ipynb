{
 "cells": [
  {
   "cell_type": "code",
   "execution_count": null,
   "metadata": {
    "colab": {},
    "colab_type": "code",
    "id": "Qhl-XDGhkAHl"
   },
   "outputs": [],
   "source": [
    "#@title -- Import of Necessary Packages -- { display-mode: \"form\" }\n",
    "import numpy as np\n",
    "import matplotlib.pyplot as plt"
   ]
  },
  {
   "cell_type": "markdown",
   "metadata": {
    "tags": [
     "sk"
    ]
   },
   "source": [
    "## Kreslenie grafov pomocou balíčka `matplotlib`\n",
    "\n",
    "Na vykresľovanie grafov sa dá v Python-e použiť balíček `matplotlib`, ktorý má podobné rozhranie ako sa používa na vykresľovanie grafov v Matlab-e. Ako príklad môžeme uviesť vykreslenie jednoduchého čiarového grafu sínusoidy:\n",
    "\n"
   ]
  },
  {
   "cell_type": "code",
   "execution_count": null,
   "metadata": {
    "tags": [
     "sk"
    ]
   },
   "outputs": [],
   "source": [
    "# Do x priradíme hodnoty z určitého rozsahu.\n",
    "x = np.arange(0, 8, 0.1)\n",
    "# Pomocou balíčka numpy vypočítame sínus.\n",
    "y = np.sin(x)\n",
    "\n",
    "# Výslednú závislosť vykreslíme.\n",
    "plt.plot(x, y)"
   ]
  },
  {
   "cell_type": "markdown",
   "metadata": {
    "tags": [
     "sk"
    ]
   },
   "source": [
    "Popísať osi vieme pomocou funkcií `plt.xlabel` a `plt.ylabel`.\n",
    "\n"
   ]
  },
  {
   "cell_type": "code",
   "execution_count": null,
   "metadata": {
    "colab": {
     "base_uri": "https://localhost:8080/",
     "height": 300
    },
    "colab_type": "code",
    "id": "cNhWFL4Vj_K-",
    "outputId": "2b0b99f5-e6ba-4754-cced-78fb8bcbd0bd"
   },
   "outputs": [],
   "source": [
    "x = np.arange(0, 8, 0.1)\n",
    "y = np.sin(x)\n",
    "plt.plot(x, y)\n",
    "\n",
    "# =====\n",
    "plt.xlabel(\"x\")\n",
    "plt.ylabel(\"y\")\n",
    "plt.legend(['sin(x)'])"
   ]
  },
  {
   "cell_type": "markdown",
   "metadata": {
    "tags": [
     "sk"
    ]
   },
   "source": [
    "Vieme doplniť aj ďalšie veci, napr. mriežku pomocou funkcie `plt.grid`:\n",
    "\n"
   ]
  },
  {
   "cell_type": "code",
   "execution_count": null,
   "metadata": {
    "colab": {
     "base_uri": "https://localhost:8080/",
     "height": 283
    },
    "colab_type": "code",
    "id": "R8a5hkZLj_LN",
    "outputId": "b21c9a70-5269-4373-970d-e52eead2b27d"
   },
   "outputs": [],
   "source": [
    "x = np.arange(0, 8, 0.1)\n",
    "y = np.sin(x)\n",
    "plt.plot(x, y)\n",
    "plt.xlabel(\"x\")\n",
    "plt.ylabel(\"y\")\n",
    "plt.legend(['sin(x)'])\n",
    "\n",
    "# =====\n",
    "plt.grid(ls='--')"
   ]
  },
  {
   "cell_type": "markdown",
   "metadata": {
    "tags": [
     "sk"
    ]
   },
   "source": [
    "Pomocou funkcie `plt.plot` vieme špecifikovať aj ďalšie vlastnosti krivky, napr. jej farbu – povedzme 'r' pre červenú farbu a '--' pre čiarkovanú čiaru:\n",
    "\n"
   ]
  },
  {
   "cell_type": "code",
   "execution_count": null,
   "metadata": {
    "colab": {
     "base_uri": "https://localhost:8080/",
     "height": 300
    },
    "colab_type": "code",
    "id": "UglCv2Cij_LZ",
    "outputId": "ce41acec-cab6-4956-8ada-fe48737f231e"
   },
   "outputs": [],
   "source": [
    "x = np.arange(0, 8, 0.1)\n",
    "y = np.sin(x)\n",
    "plt.plot(x, y)\n",
    "plt.xlabel(\"x\")\n",
    "plt.ylabel(\"y\")\n",
    "plt.legend(['sin(x)'])\n",
    "plt.grid(ls='--')\n",
    "\n",
    "# =====\n",
    "z = np.exp(0.1*x)\n",
    "plt.plot(x, z, 'r--')"
   ]
  },
  {
   "cell_type": "markdown",
   "metadata": {
    "tags": [
     "sk"
    ]
   },
   "source": [
    "Aktualizujeme legendu – výraz `np.exp` zapíšeme v LaTeX-ovom formáte – zobrazí sa ako klasický exponent:\n",
    "\n"
   ]
  },
  {
   "cell_type": "code",
   "execution_count": null,
   "metadata": {
    "colab": {
     "base_uri": "https://localhost:8080/",
     "height": 300
    },
    "colab_type": "code",
    "id": "SkGEguxCj_Lm",
    "outputId": "228a16ad-caef-4fce-f9ae-ee90892b5959"
   },
   "outputs": [],
   "source": [
    "x = np.arange(0, 8, 0.1)\n",
    "y = np.sin(x)\n",
    "plt.plot(x, y)\n",
    "plt.xlabel(\"x\")\n",
    "plt.ylabel(\"y\")\n",
    "plt.legend(['sin(x)'])\n",
    "plt.grid(ls='--')\n",
    "z = np.exp(0.1*x)\n",
    "plt.plot(x, z, 'r--')\n",
    "\n",
    "# =====\n",
    "plt.legend(['$\\sin(x)$', '$e^{0.1x}$'])"
   ]
  },
  {
   "cell_type": "markdown",
   "metadata": {
    "tags": [
     "sk"
    ]
   },
   "source": [
    "## Ďalšia funkcionalita\n",
    "\n",
    "Balíček matplotlib obsahuje ešte obrovské množstvo iných funkcií a možností – poskytuje skutočne veľkú flexibilitu. Viac informácií možno nájsť v jeho [dokumentácii](http://matplotlib.org/index.html), prípadne je možné preštudovať si tento [jednoduchý návod](http://matplotlib.org/users/pyplot_tutorial.html). Pre inšpiráciu existuje aj [galéria grafov](http://matplotlib.org/gallery.html).\n",
    "\n"
   ]
  },
  {
   "cell_type": "code",
   "execution_count": null,
   "metadata": {
    "colab": {},
    "colab_type": "code",
    "id": "tuqlSghOj_Lx"
   },
   "outputs": [],
   "source": []
  }
 ],
 "metadata": {
  "celltoolbar": "Tags",
  "colab": {
   "collapsed_sections": [],
   "name": "p8_matplotlib.ipynb",
   "provenance": [],
   "version": "0.3.2"
  },
  "kernelspec": {
   "display_name": "Python 3",
   "language": "python",
   "name": "python3"
  },
  "language_info": {
   "codemirror_mode": {
    "name": "ipython",
    "version": 3
   },
   "file_extension": ".py",
   "mimetype": "text/x-python",
   "name": "python",
   "nbconvert_exporter": "python",
   "pygments_lexer": "ipython3",
   "version": "3.8.8"
  }
 },
 "nbformat": 4,
 "nbformat_minor": 1
}

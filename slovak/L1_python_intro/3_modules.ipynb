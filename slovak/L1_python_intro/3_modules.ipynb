{
 "cells": [
  {
   "cell_type": "markdown",
   "metadata": {
    "tags": [
     "sk"
    ]
   },
   "source": [
    "## Import modulov\n",
    "\n",
    "Pre Python existuje veľké množstvo hotových balíčkov s užitočnou funkcionalitou. V súčasnosti je to de-facto jazyk umelej inteligencie. Keď sa balíčky nainštalujú, stačí ich importovať v kóde ako moduly – pomocou kľúčového slova `import`. Napr. modul `numpy` sa dá importovať takto:\n",
    "\n"
   ]
  },
  {
   "cell_type": "code",
   "execution_count": null,
   "metadata": {
    "colab": {},
    "colab_type": "code",
    "id": "8aEEVV4ihzdW"
   },
   "outputs": [],
   "source": [
    "import numpy"
   ]
  },
  {
   "cell_type": "markdown",
   "metadata": {
    "tags": [
     "sk"
    ]
   },
   "source": [
    "Po importovaní sa už môžeme odkazovať priamo na jednotlivé funkcie a triedy z modulu. Modul `numpy` obsahuje veľa užitočných numerických funkcií a tiež nástroje na prácu s poľami a maticami (k tým sa vrátime neskôr). Napr. sínus vyrátame pomocou balíčka `numpy` nasledovne:\n",
    "\n"
   ]
  },
  {
   "cell_type": "code",
   "execution_count": null,
   "metadata": {
    "colab": {},
    "colab_type": "code",
    "id": "57tv8k4KhzeR",
    "outputId": "25a8d5ac-5ae8-4594-8eef-f44620c13e04"
   },
   "outputs": [],
   "source": [
    "import numpy\n",
    "\n",
    "print(numpy.sin(15))"
   ]
  },
  {
   "cell_type": "markdown",
   "metadata": {
    "tags": [
     "sk"
    ]
   },
   "source": [
    "Často je užitočné dať importovanému modulu nejaký alternatívny, kratší názov. Dá sa to urobiť nasledovne:\n",
    "\n"
   ]
  },
  {
   "cell_type": "code",
   "execution_count": null,
   "metadata": {
    "colab": {},
    "colab_type": "code",
    "id": "7zS9HeQ8hzej",
    "outputId": "9cea793b-0dee-4129-f1a4-3f3461626785"
   },
   "outputs": [],
   "source": [
    "import numpy as np\n",
    "\n",
    "print(np.sin(15))"
   ]
  },
  {
   "cell_type": "markdown",
   "metadata": {
    "tags": [
     "sk"
    ]
   },
   "source": [
    "Okrem toho vieme z modulov importovať konkrétne funkcie aj do aktuálneho namespace-u – takže vôbec nemusíme používať názov modulu keď sa na ne odkazujeme, napr.:\n",
    "\n"
   ]
  },
  {
   "cell_type": "code",
   "execution_count": null,
   "metadata": {
    "colab": {},
    "colab_type": "code",
    "id": "m12Vph-1hze3",
    "outputId": "2e301190-aa0a-4b83-80ca-efd7f148f1fd"
   },
   "outputs": [],
   "source": [
    "from numpy import sin\n",
    "\n",
    "print(sin(15))"
   ]
  },
  {
   "cell_type": "markdown",
   "metadata": {
    "tags": [
     "sk"
    ]
   },
   "source": [
    "Z modulu je možné importovať aj všetko, ale táto alternatíva sa používa zriedkakedy, pretože ľahko vedie ku vzniku neusporiadaného a neprehľadného kódu (ľahko sa stane, že funkcia s rovnakým názvom existuje vo viacerých moduloch, čím vznikajú nepredvídané konflikty a pod.):\n",
    "\n"
   ]
  },
  {
   "cell_type": "code",
   "execution_count": null,
   "metadata": {
    "colab": {},
    "colab_type": "code",
    "id": "gR1qivT1hzfE",
    "outputId": "c5a90040-be3d-4291-b143-5f129f32d80b"
   },
   "outputs": [],
   "source": [
    "from numpy import *\n",
    "\n",
    "print(cos(15))"
   ]
  },
  {
   "cell_type": "markdown",
   "metadata": {
    "tags": [
     "sk"
    ]
   },
   "source": [
    "<div style=\"background-color: #C2EB66; padding: 15px; padding-top: 5px; margin-top: 10px; margin-left:-15px\">\n",
    "<h2>&#218;loha</h2>\n",
    "\n",
    "Nap&#237;&#353;te pomocou modulu numpy k&#243;d, ktor&#253; vyp&#237;&#353;e hyperbolick&#253; tangens &#269;&#237;sla 0.95.\n",
    "</div>Pomôcka: [numpy dokumentácia](http://lmgtfy.com/?q=numpy+docs) pre tých, ktorí nevedia používať google. :)\n",
    "\n"
   ]
  },
  {
   "cell_type": "code",
   "execution_count": null,
   "metadata": {
    "colab": {},
    "colab_type": "code",
    "id": "j70FTY6LhzfS"
   },
   "outputs": [],
   "source": []
  }
 ],
 "metadata": {
  "celltoolbar": "Tags",
  "colab": {
   "collapsed_sections": [],
   "name": "p3_modules.ipynb",
   "provenance": [],
   "version": "0.3.2"
  },
  "kernelspec": {
   "display_name": "Python 3",
   "language": "python",
   "name": "python3"
  },
  "language_info": {
   "codemirror_mode": {
    "name": "ipython",
    "version": 3
   },
   "file_extension": ".py",
   "mimetype": "text/x-python",
   "name": "python",
   "nbconvert_exporter": "python",
   "pygments_lexer": "ipython3",
   "version": "3.7.5"
  }
 },
 "nbformat": 4,
 "nbformat_minor": 1
}

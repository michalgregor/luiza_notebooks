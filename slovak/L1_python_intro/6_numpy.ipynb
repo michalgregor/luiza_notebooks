{
 "cells": [
  {
   "cell_type": "markdown",
   "metadata": {
    "tags": [
     "sk"
    ]
   },
   "source": [
    "## Balíček `numpy`\n",
    "\n",
    "V jednom z notebook-ov sme už spomínali balíček `numpy`. Je to jeden z najčastejšie používaných python-ových balíčkov. Obsahuje n-rozmerné polia, matice, umožňuje s nimi robiť základné matematické operácie atď.\n",
    "\n",
    "### Vytvorenie nového `numpy` poľa\n",
    "\n",
    "Prvý krok pri používaní balíčka `numpy` prirodzene je importovať ho. Tento balíček sa najčastejšie importuje pod skráteným názvom `np`. Pole potom môžeme vytvoriť pomocou funkcie `array` ktorej ako argument dáme prvky poľa vo forme zoznamu, napr.:\n",
    "\n"
   ]
  },
  {
   "cell_type": "code",
   "execution_count": null,
   "metadata": {
    "colab": {},
    "colab_type": "code",
    "id": "AUxp0PfKiQEg",
    "outputId": "591d74ec-04a2-4152-e864-f7d76e7e87d1"
   },
   "outputs": [],
   "source": [
    "import numpy as np\n",
    "\n",
    "A = np.array([[1, 2.5, 3], [4, 5, 6], [7, 8, 9]])\n",
    "\n",
    "print(A)"
   ]
  },
  {
   "cell_type": "markdown",
   "metadata": {
    "tags": [
     "sk"
    ]
   },
   "source": [
    "### Vytvorenie špeciálnych polí\n",
    "\n",
    "Existuje zopár funkcií, ktoré uľahčujú vytvorenie často používaných špeciálnych polí. Tvar poľa zadávame ako zoznam – `[2, 2]` – alebo n-ticu – `(2, 2)`:\n",
    "\n"
   ]
  },
  {
   "cell_type": "code",
   "execution_count": null,
   "metadata": {
    "tags": [
     "sk"
    ]
   },
   "outputs": [],
   "source": [
    "# Vytvorenie poľa so samými nulami.\n",
    "A = np.zeros((3, 4))\n",
    "print(\"A = \\n{}\\n\".format(A))\n",
    "\n",
    "# Vytvorenie poľa so samými jednotkami.\n",
    "B = np.ones((3, 4))\n",
    "print(\"B = \\n{}\\n\".format(B))\n",
    "\n",
    "# Vytvorenie poľa naplneného danou konštantou.\n",
    "C = np.full((3, 4), 7)\n",
    "print(\"C = \\n{}\\n\".format(C))\n",
    "\n",
    "# Vytvorenie štvorcovej matice s jednotkami na diagonále (ostatné nuly).\n",
    "D = np.eye(4)\n",
    "print(\"D = \\n{}\\n\".format(D))"
   ]
  },
  {
   "cell_type": "markdown",
   "metadata": {
    "tags": [
     "sk"
    ]
   },
   "source": [
    "Polia môžu byť aj viacrozmerné, napr.:\n",
    "\n"
   ]
  },
  {
   "cell_type": "code",
   "execution_count": null,
   "metadata": {
    "colab": {},
    "colab_type": "code",
    "id": "h4De9t8ziQFG",
    "outputId": "239a81e6-d586-4fb8-bd10-0a597c82e70f"
   },
   "outputs": [],
   "source": [
    "A = np.zeros([2, 2, 3])\n",
    "print(A)"
   ]
  },
  {
   "cell_type": "markdown",
   "metadata": {
    "tags": [
     "sk"
    ]
   },
   "source": [
    "Existujú aj funkcie na generovanie náhodných polí; napr. na vygenerovanie poľa rozmeru $3 \\times 3$ s rovnomerne náhodnými prvkami z intervalu $\\langle 0, 5]$:\n",
    "\n"
   ]
  },
  {
   "cell_type": "code",
   "execution_count": null,
   "metadata": {
    "colab": {},
    "colab_type": "code",
    "id": "1FHiWNXiiQFa",
    "outputId": "241dba08-8288-426d-fc2c-97a1d41e680a"
   },
   "outputs": [],
   "source": [
    "A = np.random.uniform(0, 5, (3, 3))\n",
    "print(A)"
   ]
  },
  {
   "cell_type": "markdown",
   "metadata": {
    "tags": [
     "sk"
    ]
   },
   "source": [
    "### Indexovanie prvkov\n",
    "\n",
    "Jednotlivé prvky poľa sa indexujú tak, že sa v hranatých zátvorkách uvedú ich súradnice oddelené čiarkou:\n",
    "\n"
   ]
  },
  {
   "cell_type": "code",
   "execution_count": null,
   "metadata": {
    "colab": {},
    "colab_type": "code",
    "id": "PlkrVxoliQFn",
    "outputId": "30c39ba4-87de-49a1-f17d-8a485558e040"
   },
   "outputs": [],
   "source": [
    "A = np.array([[1, 2, 3], [4, 5, 6]])\n",
    "print(\"A = \\n{}\\n\".format(A))\n",
    "\n",
    "a = A[0, 0]\n",
    "print(\"A[0, 0] = {}\".format(a))\n",
    "\n",
    "b = A[0, 1]\n",
    "print(\"A[0, 1] = {}\".format(b))"
   ]
  },
  {
   "cell_type": "markdown",
   "metadata": {
    "tags": [
     "sk"
    ]
   },
   "source": [
    "Pomocou `:` je možné adresovať aj určitý rozsah v danom rozmere alebo všetky prvky v danom rozmere:\n",
    "\n"
   ]
  },
  {
   "cell_type": "code",
   "execution_count": null,
   "metadata": {
    "colab": {},
    "colab_type": "code",
    "id": "E_oJOHcliQFz",
    "outputId": "5428091f-91da-405a-9391-4ce5212b4ea4"
   },
   "outputs": [],
   "source": [
    "A = np.array([[1, 2, 3], [4, 5, 6]])\n",
    "print(\"A = \\n{}\\n\".format(A))\n",
    "\n",
    "a = A[:2, 1]\n",
    "print(\"A[:2, 1] = {}\\n\".format(a))\n",
    "\n",
    "b = A[:, 0]\n",
    "print(\"A[:, 0] = {}\\n\".format(b))\n",
    "\n",
    "c = A[:2, :2]\n",
    "print(\"A[:2, :2] = \\n{}\".format(c))"
   ]
  },
  {
   "cell_type": "markdown",
   "metadata": {
    "tags": [
     "sk"
    ]
   },
   "source": [
    "Podobne ako pri zoznamoch, dá sa prirodzene aj pri `numpy` poliach použiť indexovanie prvkov od konca pomocou záporných indexov.\n",
    "\n",
    "### Tvar poľa\n",
    "\n",
    "Každé pole má určitý tvar; možno ho zistiť pomocou atribútu `.shape`:\n",
    "\n"
   ]
  },
  {
   "cell_type": "code",
   "execution_count": null,
   "metadata": {
    "colab": {},
    "colab_type": "code",
    "id": "vtIVD_VNiQF_",
    "outputId": "58669589-2b2e-49a2-bc6c-e9c3ee06dfec"
   },
   "outputs": [],
   "source": [
    "A = np.zeros([2, 2, 3])\n",
    "print(A.shape)"
   ]
  },
  {
   "cell_type": "markdown",
   "metadata": {
    "tags": [
     "sk"
    ]
   },
   "source": [
    "Tvar poľa sa dá aj zmeniť – pomocou metódy `np.reshape`:\n",
    "\n"
   ]
  },
  {
   "cell_type": "code",
   "execution_count": null,
   "metadata": {
    "tags": [
     "sk"
    ]
   },
   "outputs": [],
   "source": [
    "A = np.zeros([2, 2, 3])\n",
    "print(\"A.shape: {}\".format(A.shape))\n",
    "\n",
    "B = np.reshape(A, [3, 2, 2])\n",
    "print(\"B.shape: {}\".format(B.shape))\n",
    "\n",
    "# Jeden rozmer sa dá dorátať aj automaticky ak namiesto neho zadáme -1:\n",
    "C = np.reshape(A, [3, -1, 2])\n",
    "print(\"C.shape: {}\".format(C.shape))"
   ]
  },
  {
   "cell_type": "markdown",
   "metadata": {
    "tags": [
     "sk"
    ]
   },
   "source": [
    "Transponovať (zmeniť poradie rozmerov) sa dá pole pomocou metódy `.transpose`:\n",
    "\n"
   ]
  },
  {
   "cell_type": "code",
   "execution_count": null,
   "metadata": {
    "colab": {},
    "colab_type": "code",
    "id": "df2MuHPkiQGT",
    "outputId": "70a041df-0740-4891-f748-271827172bcc"
   },
   "outputs": [],
   "source": [
    "A = np.array([[1, 2, 3], [4, 5, 6]])\n",
    "print(\"A = \\n{}\\n\".format(A))\n",
    "\n",
    "AT = A.transpose()\n",
    "print(\"AT = \\n{}\\n\".format(AT))"
   ]
  },
  {
   "cell_type": "markdown",
   "metadata": {
    "tags": [
     "sk"
    ]
   },
   "source": [
    "### Aritmetika s poľami\n",
    "\n",
    "S poľami sa dajú realizovať aj aritmetické operácie – napr. sčítanie alebo násobenie polí po prvkoch:\n",
    "\n"
   ]
  },
  {
   "cell_type": "code",
   "execution_count": null,
   "metadata": {
    "tags": [
     "sk"
    ]
   },
   "outputs": [],
   "source": [
    "A = np.array([[1, 2, 3], [4, 5, 6]])\n",
    "B = np.array([[6, 5, 4], [3, 2, 1]])\n",
    "print(\"A = \\n{}\\n\".format(A))\n",
    "print(\"B = \\n{}\\n\".format(B))\n",
    "\n",
    "# Sčítanie po prvkoch:\n",
    "C = A + B\n",
    "print(\"A + B = \\n{}\\n\".format(C))\n",
    "\n",
    "# Odčítanie po prvkoch:\n",
    "C = A - B\n",
    "print(\"A - B = \\n{}\\n\".format(C))\n",
    "\n",
    "# Násobenie po prvkoch:\n",
    "C = A * B\n",
    "print(\"A * B = \\n{}\\n\".format(C))\n",
    "\n",
    "# Delenie po prvkoch:\n",
    "C = A / B\n",
    "print(\"A / B = \\n{}\\n\".format(C))"
   ]
  },
  {
   "cell_type": "markdown",
   "metadata": {
    "tags": [
     "sk"
    ]
   },
   "source": [
    "Balíček `numpy` obsahuje aj verzie klasických matematických funkcií ako `sin`, `cos` alebo `exp`, ktoré dokážu pracovať s poľami:\n",
    "\n"
   ]
  },
  {
   "cell_type": "code",
   "execution_count": null,
   "metadata": {
    "colab": {},
    "colab_type": "code",
    "id": "ry4lmtvwiQGk",
    "outputId": "672b33a0-c66b-40c7-b82c-bec63467a9cf"
   },
   "outputs": [],
   "source": [
    "A = np.array([[1, 2, 3], [4, 5, 6]])\n",
    "print(\"A = \\n{}\\n\".format(A))\n",
    "\n",
    "sinA = np.sin(A)\n",
    "print(\"sin(A) = \\n{}\\n\".format(sinA))\n",
    "\n",
    "expA = np.exp(A)\n",
    "print(\"exp(A) = \\n{}\\n\".format(expA))"
   ]
  },
  {
   "cell_type": "markdown",
   "metadata": {
    "tags": [
     "sk"
    ]
   },
   "source": [
    "### Algebraické operácie\n",
    "\n",
    "S `numpy` poľami sa dajú vykonať aj klasické algebraické operácie – napr. skalárny súčin, násobenie matíc a pod.:\n",
    "\n"
   ]
  },
  {
   "cell_type": "code",
   "execution_count": null,
   "metadata": {
    "colab": {},
    "colab_type": "code",
    "id": "idFwMw94iQGu",
    "outputId": "97810e11-feb5-414f-d3a1-e17c28632296"
   },
   "outputs": [],
   "source": [
    "a = np.array([1, 2, 3])\n",
    "print(\"a = {}\".format(a))\n",
    "b = np.array([4, 5, 6])\n",
    "print(\"b = {}\\n\".format(b))\n",
    "\n",
    "c = np.dot(a, b)\n",
    "print(\"a.b = {}\".format(c))"
   ]
  },
  {
   "cell_type": "code",
   "execution_count": null,
   "metadata": {
    "colab": {},
    "colab_type": "code",
    "id": "sv-K5xqOiQGz",
    "outputId": "abbe104f-97ff-47c6-a081-4c0970af2811"
   },
   "outputs": [],
   "source": [
    "A = np.array([[1, 2, 3], [4, 5, 6]])\n",
    "B = np.array([[6, 5, 4], [3, 2, 1]])\n",
    "print(\"A = \\n{}\\n\".format(A))\n",
    "print(\"B = \\n{}\\n\".format(B))\n",
    "\n",
    "C = np.matmul(A, B.transpose())\n",
    "print(\"A x B = \\n{}\".format(C))"
   ]
  },
  {
   "cell_type": "markdown",
   "metadata": {
    "tags": [
     "sk"
    ]
   },
   "source": [
    "Násobenie matíc sa dá zapísať aj pomocou na to určeného operátora `@`, čo môže zlepšiť čitateľnosť kódu oproti priamemu volaniu metódy `matmul`.\n",
    "\n"
   ]
  },
  {
   "cell_type": "code",
   "execution_count": null,
   "metadata": {},
   "outputs": [],
   "source": [
    "C = A @ B.transpose()\n",
    "print(\"A x B = \\n{}\".format(C))"
   ]
  },
  {
   "cell_type": "markdown",
   "metadata": {
    "tags": [
     "sk"
    ]
   },
   "source": [
    "### Hromadné porovnávanie a indexovanie prvkov\n",
    "\n",
    "Pomocou `numpy` polí je možné realizovať aj hromadné porovnávanie prvkov – napr. identifikovať všetky prvky, ktoré sú väčšie, nanajvýš rovné 5. Výsledkom je binárne pole rovnakej veľkosti, ktoré špecifikuje či podmienka je pre daný prvok splnená alebo nie.\n",
    "\n"
   ]
  },
  {
   "cell_type": "code",
   "execution_count": null,
   "metadata": {
    "colab": {},
    "colab_type": "code",
    "id": "THpszLfwiQG7",
    "outputId": "6319f3d9-19b3-463b-a040-7f4df6cb8e7f"
   },
   "outputs": [],
   "source": [
    "A = np.array([[1, 5, 2], [7, 3, 4], [8, 0, 2]])\n",
    "print(A >= 5)"
   ]
  },
  {
   "cell_type": "markdown",
   "metadata": {
    "tags": [
     "sk"
    ]
   },
   "source": [
    "Obdobne je možné prvky podľa určitej podmienky aj zaindexovať. Používa sa na to funkcia `np.where`, ktorá z binárneho poľa vyberie súradnice `True` prvkov. Výslednými súradnicami je možné indexovať pôvobdné pole. Ak chceme napr. priradiť namiesto každého prvku väčšieho, nanajvýš rovného 5 číslo 111:\n",
    "\n"
   ]
  },
  {
   "cell_type": "code",
   "execution_count": null,
   "metadata": {
    "colab": {},
    "colab_type": "code",
    "id": "bW5hQ6opiQHE",
    "outputId": "5b6541d3-3835-4f58-e411-a5977a536da5"
   },
   "outputs": [],
   "source": [
    "A = np.array([[1, 5, 2], [7, 3, 4], [8, 0, 2]])\n",
    "index = np.where(A >= 5)\n",
    "A[index] = 111\n",
    "\n",
    "print(A)"
   ]
  },
  {
   "cell_type": "code",
   "execution_count": null,
   "metadata": {
    "colab": {},
    "colab_type": "code",
    "id": "Zo2cJCx3iTBl"
   },
   "outputs": [],
   "source": []
  }
 ],
 "metadata": {
  "celltoolbar": "Tags",
  "colab": {
   "collapsed_sections": [],
   "name": "p6_numpy.ipynb",
   "provenance": [],
   "version": "0.3.2"
  },
  "kernelspec": {
   "display_name": "Python 3",
   "language": "python",
   "name": "python3"
  },
  "language_info": {
   "codemirror_mode": {
    "name": "ipython",
    "version": 3
   },
   "file_extension": ".py",
   "mimetype": "text/x-python",
   "name": "python",
   "nbconvert_exporter": "python",
   "pygments_lexer": "ipython3",
   "version": "3.7.5"
  }
 },
 "nbformat": 4,
 "nbformat_minor": 1
}

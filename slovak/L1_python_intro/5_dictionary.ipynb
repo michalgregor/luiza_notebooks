{
 "cells": [
  {
   "cell_type": "markdown",
   "metadata": {
    "tags": [
     "sk"
    ]
   },
   "source": [
    "## Slovník – `dict`\n",
    "\n",
    "Užitočným pythonovým kontajnerom je aj slovník – `dict` (z angl. dictionary). Slovník sa neindexuje klasicky číslami, ale ľubovoľnými objektami (takými, ktoré sa dajú hashovať), najčastejšie textovými reťazcami.\n",
    "\n",
    "Povedzme, že v kine dávajú tri predstavenia: Superman IV., Hobbit a Rogue One a ku každému z nich si chceme uložiť cenu vstupného tak, aby sme sa na ňu mohli dotazovať podľa názvu filmu:\n",
    "\n"
   ]
  },
  {
   "cell_type": "code",
   "execution_count": null,
   "metadata": {
    "colab": {},
    "colab_type": "code",
    "id": "SOu0xTFziHGI",
    "outputId": "ab5e691c-c092-4387-db42-6a0d586def96"
   },
   "outputs": [],
   "source": [
    "ticket_price = {'superman_iv': 5, 'hobbit': 7, 'rogue_one': 11}\n",
    "print(ticket_price['hobbit'])"
   ]
  },
  {
   "cell_type": "markdown",
   "metadata": {
    "tags": [
     "sk"
    ]
   },
   "source": [
    "### Prázdny slovník\n",
    "\n",
    "Dá sa vytvoriť aj prázdny slovník:\n",
    "\n"
   ]
  },
  {
   "cell_type": "code",
   "execution_count": null,
   "metadata": {
    "colab": {},
    "colab_type": "code",
    "id": "ciJTFl0WiHGc",
    "outputId": "e513170c-86d9-420d-f579-272cd07ea23c"
   },
   "outputs": [],
   "source": [
    "ticket_price = {}\n",
    "print(ticket_price)\n",
    "\n",
    "ticket_price2 = dict()\n",
    "print(ticket_price2)"
   ]
  },
  {
   "cell_type": "markdown",
   "metadata": {
    "tags": [
     "sk"
    ]
   },
   "source": [
    "### Pridávanie prvkov\n",
    "\n",
    "Pridať ďalšie prvky je možné jednoducho pomocou:\n",
    "\n"
   ]
  },
  {
   "cell_type": "code",
   "execution_count": null,
   "metadata": {
    "colab": {},
    "colab_type": "code",
    "id": "U8Qe-TB-iHGo",
    "outputId": "7c815860-cc4a-4a84-aa17-2d9fca355738"
   },
   "outputs": [],
   "source": [
    "ticket_price = {}\n",
    "ticket_price[\"shadowlands\"] = 7\n",
    "ticket_price[\"alice_in_wonderland\"] = 4\n",
    "\n",
    "print(ticket_price)"
   ]
  },
  {
   "cell_type": "markdown",
   "metadata": {
    "tags": [
     "sk"
    ]
   },
   "source": [
    "### Obsahuje slovník kľúč x?\n",
    "\n",
    "Ak chceme overiť, či slovník obsahuje určitý kľúč, môžeme to urobiť pomocou kľúčového slova `in`:\n",
    "\n"
   ]
  },
  {
   "cell_type": "code",
   "execution_count": null,
   "metadata": {
    "colab": {},
    "colab_type": "code",
    "id": "lWD0yOfUiHGz",
    "outputId": "4783eb9d-50eb-4232-87ed-874248fa92f1"
   },
   "outputs": [],
   "source": [
    "ticket_price = {'superman_iv': 5, 'hobbit': 7, 'rogue_one': 11}\n",
    "\n",
    "print('superman_iv' in ticket_price)"
   ]
  },
  {
   "cell_type": "markdown",
   "metadata": {
    "tags": [
     "sk"
    ]
   },
   "source": [
    "### Vymazávanie zo slovníka\n",
    "\n",
    "Vymazávanie prvkov zo slovníka je obdobné ako v prípade zoznamov – opäť použijeme kľúčové slovo `del`:\n",
    "\n"
   ]
  },
  {
   "cell_type": "code",
   "execution_count": null,
   "metadata": {
    "colab": {},
    "colab_type": "code",
    "id": "DAliKZ40iHHI",
    "outputId": "72142e5b-018b-4944-fcdd-2d534d97a31a"
   },
   "outputs": [],
   "source": [
    "ticket_price = {'superman_iv': 5, 'hobbit': 7, 'rogue_one': 11}\n",
    "del ticket_price['superman_iv']\n",
    "\n",
    "print(ticket_price)"
   ]
  },
  {
   "cell_type": "markdown",
   "metadata": {
    "tags": [
     "sk"
    ]
   },
   "source": [
    "### Iterácia cez slovníky\n",
    "\n",
    "Cez slovníky je možné iterovať viacerými spôsobmi: buď po dvojiciach (kľúč, hodnota) alebo osobitne po kľúčoch alebo osobitne po hodnotách:\n",
    "\n"
   ]
  },
  {
   "cell_type": "code",
   "execution_count": null,
   "metadata": {
    "colab": {},
    "colab_type": "code",
    "id": "1nAbu0qsiHHS",
    "outputId": "e16a8232-9911-4c9a-e204-0758d30c9491"
   },
   "outputs": [],
   "source": [
    "ticket_price = {'superman_iv': 5, 'hobbit': 7, 'rogue_one': 11}\n",
    "\n",
    "print(\"over pairs:\")\n",
    "for k, v in ticket_price.items():\n",
    "    print(k, v)\n",
    "    \n",
    "print(\"\\nover keys:\")\n",
    "for k in ticket_price.keys():\n",
    "    print(k)\n",
    "    \n",
    "print(\"\\nover values:\")\n",
    "for v in ticket_price.values():\n",
    "    print(v)"
   ]
  },
  {
   "cell_type": "markdown",
   "metadata": {
    "tags": [
     "sk"
    ]
   },
   "source": [
    "### Dictionary comprehensions\n",
    "\n",
    "Podobne ako zoznamy, aj slovníky sa dajú vytvárať pomocou comprehensions, napr.:\n",
    "\n"
   ]
  },
  {
   "cell_type": "code",
   "execution_count": null,
   "metadata": {
    "colab": {},
    "colab_type": "code",
    "id": "fOy1n67oiHHd",
    "outputId": "c24da028-bdb4-44ef-982a-470bb98dc683"
   },
   "outputs": [],
   "source": [
    "movies = ['superman_iv', 'hobbit', 'rogue_one']\n",
    "prices = [5, 7, 11]\n",
    "\n",
    "ticket_price = {k: v for k, v in zip(movies, prices)}\n",
    "\n",
    "print(ticket_price)"
   ]
  },
  {
   "cell_type": "code",
   "execution_count": null,
   "metadata": {
    "colab": {},
    "colab_type": "code",
    "id": "Yr5qieRWiKQH"
   },
   "outputs": [],
   "source": []
  }
 ],
 "metadata": {
  "celltoolbar": "Tags",
  "colab": {
   "name": "p5_dictionary.ipynb",
   "provenance": [],
   "version": "0.3.2"
  },
  "kernelspec": {
   "display_name": "Python 3",
   "language": "python",
   "name": "python3"
  },
  "language_info": {
   "codemirror_mode": {
    "name": "ipython",
    "version": 3
   },
   "file_extension": ".py",
   "mimetype": "text/x-python",
   "name": "python",
   "nbconvert_exporter": "python",
   "pygments_lexer": "ipython3",
   "version": "3.7.5"
  }
 },
 "nbformat": 4,
 "nbformat_minor": 1
}

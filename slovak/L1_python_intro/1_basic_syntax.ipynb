{
 "cells": [
  {
   "cell_type": "markdown",
   "metadata": {
    "colab_type": "text",
    "id": "aMGbnE2qLONP"
   },
   "source": [
    "<div class=\"clearfix\" style=\"padding: 10px; padding-left: 0px\">\n",
    "<img src=\"https://raw.githubusercontent.com/jupyter/nature-demo/master/images/jupyter-logo.png\" width=\"150px\" style=\"display: inline-block; margin-top: 5px;\">\n",
    "<img src=\"https://www.python.org/static/community_logos/python-logo-master-v3-TM.png\" width=\"150px\" style=\"display: inline-block; margin-top: 5px;\">\n",
    "</div>"
   ]
  },
  {
   "cell_type": "markdown",
   "metadata": {
    "tags": [
     "sk"
    ]
   },
   "source": [
    "## Mikroúvod do jazyka Python (3.x)\n",
    "\n",
    "Tento úvod má formu ipython notebook-u. Notebook-y umožňujú kombinovať formátovaný text a obrázky so zdrojovým kódom, ktorý možno interaktívne spustiť, testovať, editovať, generovať v rámci neho interaktívne grafy a pod.\n",
    "\n"
   ]
  },
  {
   "cell_type": "markdown",
   "metadata": {
    "colab_type": "text",
    "id": "ICpBe1AMLONY",
    "tags": [
     "sk"
    ]
   },
   "source": [
    "### Ako spustiť priložené zdrojové kódy?\n",
    "\n",
    "Spustiť priložené zdrojové kódy je možné nasledovne:\n",
    "\n",
    "# Kliknutím označíte bunku, v ktorej sa kód nachádza.\n",
    "# Stlačíte `SHIFT+ENTER` alebo kliknete na tlačidlo play.\n",
    "Podrobnosti toho, ako sa notebook-ové rozhranie používa závisia od toho, či používate Jupyter notebook-y, Google Colab notebook-y, Kaggle notebook-y alebo ešte iné rozhranie. Preto si ich je najlepšie dohľadať v dokumentácii konkrétneho rozhrania.\n",
    "\n"
   ]
  },
  {
   "cell_type": "markdown",
   "metadata": {
    "colab_type": "text",
    "id": "H7uZJwlgLONe",
    "tags": [
     "sk"
    ]
   },
   "source": [
    "## Help\n",
    "\n",
    "Prístup ku dokumentácii je v menu Help. Dá sa tiež dotazovať na konkrétne funkcie, triedy, objekty atď. tak, že napíšete otáznik a identifikátor príslušného objektu, napr.:\n",
    "\n"
   ]
  },
  {
   "cell_type": "code",
   "execution_count": null,
   "metadata": {
    "colab": {},
    "colab_type": "code",
    "id": "ggO03KIoLONm"
   },
   "outputs": [],
   "source": [
    "import numpy as np\n",
    "?np.arange"
   ]
  },
  {
   "cell_type": "markdown",
   "metadata": {
    "colab_type": "text",
    "collapsed": true,
    "id": "_-K7QarpLOOE",
    "tags": [
     "sk"
    ]
   },
   "source": [
    "Podobne keď sa časť kódu označí, možno stlačením `SHIFT+TAB` zobraziť dokumentáciu v plávajúcom okne. Vyskúšajte si to!\n",
    "\n",
    "## Základy Python-ovej syntaxe\n",
    "\n",
    "Typy premenných sa explicitne nedeklarujú, takže píšeme napr.:\n",
    "\n",
    "```\n",
    "a = 7\n",
    "x = 1.5\n",
    "s = \"textový reťazec\"\n",
    "```\n",
    "Ako sme videli, príkazy sa oddeľujú znakom nového riadku. Ak chceme viacero príkazov v tom istom riadku, môžeme ich oddeliť bodkočiarkou, napr.:\n",
    "\n",
    "```\n",
    "a = 7; x = 1.5\n",
    "```\n",
    "V Python-e majú význam aj iné biele znaky. Napr. odsadením sa vyjadrujú bloky kódu (v C++ sú na to \"{}\"):\n",
    "\n",
    "```\n",
    "if x == 1 and a < 10:\n",
    "    y = 5\n",
    "elif a > 17 or x == 0:\n",
    "    y = 11\n",
    "    z = 12\n",
    "else:\n",
    "    y = 0\n",
    "```\n",
    "Odsadenie musí byť všade rovnaké (napr. vždy odsadzovať štyrmi znakmi). Nekonzistentné odsadenie sa považuje za syntaktickú chybu, napr.:\n",
    "\n"
   ]
  },
  {
   "cell_type": "code",
   "execution_count": null,
   "metadata": {
    "colab": {
     "base_uri": "https://localhost:8080/",
     "height": 133
    },
    "colab_type": "code",
    "id": "_NgCnFswLOOK",
    "outputId": "cd183441-fa88-4a66-eabe-7d92b85ba65f"
   },
   "outputs": [],
   "source": [
    "x = 1; a = 7\n",
    "\n",
    "if x == 1 and a < 10:\n",
    "    y = 5\n",
    "elif a > 17 or x == 0:\n",
    "    y = 11\n",
    "      z = 12\n",
    "else:\n",
    "    y = 0"
   ]
  },
  {
   "cell_type": "markdown",
   "metadata": {
    "colab_type": "text",
    "id": "zMCNXTWdLOOW",
    "tags": [
     "sk"
    ]
   },
   "source": [
    "Komentáre sa v Python-e označujú znakom `#`, napr.:\n",
    "\n"
   ]
  },
  {
   "cell_type": "code",
   "execution_count": null,
   "metadata": {
    "colab": {},
    "colab_type": "code",
    "id": "xcTyhe9kLOOa",
    "tags": [
     "sk"
    ]
   },
   "outputs": [],
   "source": [
    "# Toto je komentár.\n",
    "x = 2   # priradí do x hodnotu 2"
   ]
  },
  {
   "cell_type": "markdown",
   "metadata": {
    "colab_type": "text",
    "id": "CP_qhRuRLOOl",
    "tags": [
     "sk"
    ]
   },
   "source": [
    "### Deklarácia funkcií\n",
    "\n",
    "Funkcie sa v Python-e deklarujú pomocou kľúčového slova `def`. Telo funkcie je blok kódu, takže je odsadené. Hodnota sa navracia pomocou kľúčového slova `return` podobne ako v C/C++.\n",
    "\n"
   ]
  },
  {
   "cell_type": "code",
   "execution_count": null,
   "metadata": {
    "colab": {},
    "colab_type": "code",
    "id": "EsTvJji0LOOr",
    "tags": [
     "sk"
    ]
   },
   "outputs": [],
   "source": [
    "# Funkcia, ktorá sčíta čísla a, b:\n",
    "def plus(a, b):\n",
    "    return a + b"
   ]
  },
  {
   "cell_type": "markdown",
   "metadata": {
    "colab_type": "text",
    "id": "JDEVDFYvLOO0",
    "tags": [
     "sk"
    ]
   },
   "source": [
    "## Výpis textu\n",
    "\n",
    "### Jednoduchý výpis\n",
    "\n",
    "Výpis sa v Python-e realizuje pomocou funkcie `print`, napr.:\n",
    "\n"
   ]
  },
  {
   "cell_type": "code",
   "execution_count": null,
   "metadata": {
    "colab": {},
    "colab_type": "code",
    "id": "ejGzCcehLOO4"
   },
   "outputs": [],
   "source": [
    "x = 15\n",
    "print(x)"
   ]
  },
  {
   "cell_type": "markdown",
   "metadata": {
    "colab_type": "text",
    "id": "O2MEItnRLOPE",
    "tags": [
     "sk"
    ]
   },
   "source": [
    "Rovnako funguje výpis so zložitejšími objektami, napr. s celými poľami:\n",
    "\n"
   ]
  },
  {
   "cell_type": "code",
   "execution_count": null,
   "metadata": {
    "colab": {},
    "colab_type": "code",
    "id": "BFxGzLDdLOPG"
   },
   "outputs": [],
   "source": [
    "import numpy as np\n",
    "ar = np.array([1, 2, 3, 4])\n",
    "print(ar)"
   ]
  },
  {
   "cell_type": "markdown",
   "metadata": {
    "colab_type": "text",
    "id": "NoTBBgNYLOPU",
    "tags": [
     "sk"
    ]
   },
   "source": [
    "### Formátovaný výpis\n",
    "\n",
    "Zaujímavejší je výpis formátovaného textu. Dá sa realizovať pomocou funkcie `format`, ktorú majú vstavané textové reťazce:\n",
    "\n"
   ]
  },
  {
   "cell_type": "code",
   "execution_count": null,
   "metadata": {
    "colab": {},
    "colab_type": "code",
    "id": "NJDF3I0FLOPZ",
    "tags": [
     "sk"
    ]
   },
   "outputs": [],
   "source": [
    "x = 15\n",
    "y = 20\n",
    "print(\"Výsledky sú x = {}, y = {}.\".format(x, y))"
   ]
  },
  {
   "cell_type": "markdown",
   "metadata": {
    "colab_type": "text",
    "id": "qoRJMnjCLOPm",
    "tags": [
     "sk"
    ]
   },
   "source": [
    "T.j. niekde do textu vložíme jeden alebo viacero zástupných symbolov \"`{}`\", ktoré sa po použití funkcie `format` nahradia príslušnými argumentami uvedenými v zátvorkách – v tomto prípade hodnotami premenných `x` a `y`.\n",
    "\n",
    "Čo je ešte lepšie, ak pred textový literál (tesne pred úvodzovky) vložíte znak `f`, môžete priamo do zástupného symbolu vložiť ľubovoľný výraz zahŕňajúci lokálne premenné, napr.:\n",
    "\n"
   ]
  },
  {
   "cell_type": "code",
   "execution_count": null,
   "metadata": {},
   "outputs": [],
   "source": [
    "x = 15\n",
    "y = 20\n",
    "print(f\"Výsledky sú x = {x}, y + 1 = {y+1}.\")"
   ]
  },
  {
   "cell_type": "markdown",
   "metadata": {
    "tags": [
     "sk"
    ]
   },
   "source": [
    "Podrobnejšie informácie o možnostiach formátovania sa dajú nájsť v [manuále](https://docs.python.org/3/library/string.html#format-string-syntax).\n",
    "\n"
   ]
  },
  {
   "cell_type": "markdown",
   "metadata": {
    "colab_type": "text",
    "id": "O-CSeABKLOPu",
    "tags": [
     "sk"
    ]
   },
   "source": [
    "## Základné dátové typy\n",
    "\n",
    "### Numerické typy\n",
    "\n",
    "Zo základných numerických typov je dobré spomenúť hlavne klasické `int`-y, t.j. celé čísla a `float`-y, t.j. reálne čísla. Ako sme už povedali, typy premenných sa v Python-e explicitne nedeklarujú, stačí napísať príslušné literály (funkcia `type` navracia typ objektu):\n",
    "\n"
   ]
  },
  {
   "cell_type": "code",
   "execution_count": null,
   "metadata": {
    "colab": {
     "base_uri": "https://localhost:8080/",
     "height": 52
    },
    "colab_type": "code",
    "id": "HzLYjXz1LOPz",
    "outputId": "d4ab981c-b467-4f72-984a-7b953ce71d0d"
   },
   "outputs": [],
   "source": [
    "x = 5\n",
    "print(type(x))\n",
    "\n",
    "y = 5.5\n",
    "print(type(y))"
   ]
  },
  {
   "cell_type": "markdown",
   "metadata": {
    "colab_type": "text",
    "id": "eJsHS7JVLOQA",
    "tags": [
     "sk"
    ]
   },
   "source": [
    "Základné operácie s číslami:\n",
    "\n",
    "```\n",
    "x = 5\n",
    "\n",
    "print(x)                              # výpis\n",
    "print(x + 1)                          # sčítanie\n",
    "print(x - 1)                          # odčítanie\n",
    "print(x * 2)                          # násobenie\n",
    "print(x / 2)                          # delenie (výsledkom je reálne číslo)\n",
    "print(x ** 2)                         # umocnenie\n",
    "print(x % 2)                          # modulo (zvyšok po celočíselnom delení)\n",
    "\n",
    "x += 3                                # inkrementácia; ekvivalent x = x + 3\n",
    "print(x)\n",
    "\n",
    "x -= 3                                # dekrementácia; ekvivalent x = x - 3\n",
    "print(x)\n",
    "\n",
    "x *= 5                                # ekvivalent x = x * 5\n",
    "print(x)\n",
    "\n",
    "x /= 5                                # ekvivalent x = x / 5\n",
    "print(x)\n",
    "\n",
    "x **= 2                               # ekvivalent x = x ** 2\n",
    "print(x)\n",
    "```\n",
    "Python nemá operátory `x++`, `x--`, ktoré poznáme z iných jazykov. Namiesto toho sa používa zápis:\n",
    "\n",
    "```\n",
    "x += 1\n",
    "x -= 1\n",
    "```\n",
    "<div style=\"background-color: #C2EB66; padding: 15px; padding-top: 5px; margin-top: 10px; margin-left:-15px\">\n",
    "<h2>&#218;loha</h2>\n",
    "\n",
    "M&#244;&#382;ete si niektor&#233; z t&#253;chto oper&#225;ci&#237; vysk&#250;&#353;a&#357; tu:\n",
    "</div>"
   ]
  },
  {
   "cell_type": "code",
   "execution_count": null,
   "metadata": {
    "colab": {},
    "colab_type": "code",
    "id": "my24CzcDLOQE"
   },
   "outputs": [],
   "source": []
  },
  {
   "cell_type": "markdown",
   "metadata": {
    "colab_type": "text",
    "id": "PQAm1KwULOQL",
    "tags": [
     "sk"
    ]
   },
   "source": [
    "### Bool\n",
    "\n",
    "Boolovské hodnoty sú v Pythone `True` (pravda, logická 1) a `False` (nepravda, logická 0).\n",
    "\n"
   ]
  },
  {
   "cell_type": "code",
   "execution_count": null,
   "metadata": {
    "colab": {
     "base_uri": "https://localhost:8080/",
     "height": 34
    },
    "colab_type": "code",
    "id": "komqUSO-LOQO",
    "outputId": "ee3dfdb7-34ff-4c8b-91bf-c5d907b8391e"
   },
   "outputs": [],
   "source": [
    "t = True\n",
    "f = False\n",
    "print(type(t))"
   ]
  },
  {
   "cell_type": "markdown",
   "metadata": {
    "colab_type": "text",
    "id": "ECRMaf3MLOQV",
    "tags": [
     "sk"
    ]
   },
   "source": [
    "Boolovské operácie sa označujú svojimi anglickými názvami a píšu sa malými písmenami:\n",
    "\n"
   ]
  },
  {
   "cell_type": "code",
   "execution_count": null,
   "metadata": {
    "colab": {
     "base_uri": "https://localhost:8080/",
     "height": 86
    },
    "colab_type": "code",
    "id": "OahP6AsYLOQX",
    "outputId": "8aa5c390-0d86-45a0-a899-ca676070ce53",
    "tags": [
     "sk"
    ]
   },
   "outputs": [],
   "source": [
    "t = True\n",
    "f = False\n",
    "\n",
    "print(t and f)                      # and: logický súčin\n",
    "print(t or f)                       # or: logický súčet\n",
    "print(not t)                        # not: negácia\n",
    "print(t != f)                       # xor"
   ]
  },
  {
   "cell_type": "markdown",
   "metadata": {
    "colab_type": "text",
    "id": "hFEAImfeLOQf",
    "tags": [
     "sk"
    ]
   },
   "source": [
    "### Textové reťazce\n",
    "\n",
    "Textové reťazce sa v Python-e uzatvárajú buď do jednoduchých alebo do dvojitých úvodzoviek – obidva zápisy sú ekvivalentné, napr.:\n",
    "\n"
   ]
  },
  {
   "cell_type": "code",
   "execution_count": null,
   "metadata": {
    "colab": {},
    "colab_type": "code",
    "id": "CdGhuTWTLOQi",
    "tags": [
     "sk"
    ]
   },
   "outputs": [],
   "source": [
    "str1 = 'textový reťazec 1'\n",
    "str2 = \"textový reťazec 2\""
   ]
  },
  {
   "cell_type": "markdown",
   "metadata": {
    "colab_type": "text",
    "id": "wl1OLaTCLOQn",
    "tags": [
     "sk"
    ]
   },
   "source": [
    "Dĺžka textového reťazca sa dá zistiť pomocou funkcie `len`:\n",
    "\n"
   ]
  },
  {
   "cell_type": "code",
   "execution_count": null,
   "metadata": {
    "colab": {
     "base_uri": "https://localhost:8080/",
     "height": 34
    },
    "colab_type": "code",
    "id": "tcsklr-eLOQp",
    "outputId": "1aa82230-c6f7-45d2-92fa-17b0c6175797",
    "tags": [
     "sk"
    ]
   },
   "outputs": [],
   "source": [
    "str1 = 'textový reťazec 1'\n",
    "print(len(str1))"
   ]
  },
  {
   "cell_type": "markdown",
   "metadata": {
    "colab_type": "text",
    "id": "pUDMoUYVLOQw",
    "tags": [
     "sk"
    ]
   },
   "source": [
    "Textové reťazce sa dajú zlučovať dokopy pomocou operátora `+`:\n",
    "\n"
   ]
  },
  {
   "cell_type": "code",
   "execution_count": null,
   "metadata": {
    "colab": {
     "base_uri": "https://localhost:8080/",
     "height": 34
    },
    "colab_type": "code",
    "id": "_GVtBxa_LOQy",
    "outputId": "647e9813-5277-41b0-c81e-bad8f04bfa19",
    "tags": [
     "sk"
    ]
   },
   "outputs": [],
   "source": [
    "str1 = 'textový reťazec 1'\n",
    "str2 = 'textový reťazec 2'\n",
    "str12 = str1 + ', ' + str2\n",
    "print(str12)"
   ]
  },
  {
   "cell_type": "markdown",
   "metadata": {
    "colab_type": "text",
    "id": "Dp1subTbLOQ3",
    "tags": [
     "sk"
    ]
   },
   "source": [
    "#### Formátovanie\n",
    "\n",
    "Vyššie uvedené formátovanie textu pomocou funkcie `.format(...)` pracuje tiež na úrovni textových reťazcov – dá sa použiť hocikde, nielen pri výpise:\n",
    "\n"
   ]
  },
  {
   "cell_type": "code",
   "execution_count": null,
   "metadata": {
    "colab": {
     "base_uri": "https://localhost:8080/",
     "height": 34
    },
    "colab_type": "code",
    "id": "pMbMAa7YLOQ5",
    "outputId": "fcb7e095-9b16-4a34-cf3e-195e06031c7f",
    "tags": [
     "sk"
    ]
   },
   "outputs": [],
   "source": [
    "z = \"zemiaky\"\n",
    "n = 4\n",
    "str1 = \"Mal som {} {}.\".format(n, z)\n",
    "print(str1)"
   ]
  },
  {
   "cell_type": "markdown",
   "metadata": {
    "colab_type": "text",
    "id": "dNXzXT2ELORA",
    "tags": [
     "sk"
    ]
   },
   "source": [
    "#### Ďalšie operácie s reťazcami\n",
    "\n",
    "Textové reťazce majú ešte mnoho iných užitočných vstavaných funkcií, napr.:\n",
    "\n"
   ]
  },
  {
   "cell_type": "code",
   "execution_count": null,
   "metadata": {
    "colab": {
     "base_uri": "https://localhost:8080/",
     "height": 69
    },
    "colab_type": "code",
    "id": "GVwhkE3zLORB",
    "outputId": "698462c3-6bd6-4113-d820-96a2629a9219",
    "tags": [
     "sk"
    ]
   },
   "outputs": [],
   "source": [
    "str1 = '  textový reťazec 1   '\n",
    "print(str1.capitalize())             # Zmení prvé písmeno na veľké.\n",
    "print(str1.upper())                  # Zmení všetky písmená na veľké.\n",
    "print(str1.strip())                  # Ostráni biele znaky zo začiatku a konca reťazca."
   ]
  },
  {
   "cell_type": "markdown",
   "metadata": {
    "colab_type": "text",
    "id": "XvKFfyoeLORJ",
    "tags": [
     "sk"
    ]
   },
   "source": [
    "### Porovnávanie hodnôt premenných\n",
    "\n",
    "Hodnota dvoch premenných sa porovnáva obdobne ako vo väčšine iných jazykov (napr. v C++):\n",
    "\n"
   ]
  },
  {
   "cell_type": "code",
   "execution_count": null,
   "metadata": {
    "colab": {
     "base_uri": "https://localhost:8080/",
     "height": 86
    },
    "colab_type": "code",
    "id": "jmLcQ_tqLORO",
    "outputId": "70bbbee3-4f1d-422c-a020-79cd89cda755",
    "tags": [
     "sk"
    ]
   },
   "outputs": [],
   "source": [
    "x = 1\n",
    "\n",
    "print(x == 1)                # rovnosť\n",
    "print(x != 1)                # nerovnosť\n",
    "\n",
    "str1 = 'textový reťazec 1'\n",
    "str2 = 'textový reťazec 2'\n",
    "\n",
    "print(str1 == str2)          # rovnosť\n",
    "print(str1 != str2)          # nerovnosť"
   ]
  },
  {
   "cell_type": "code",
   "execution_count": null,
   "metadata": {
    "colab": {},
    "colab_type": "code",
    "id": "s4WffRsXLORT"
   },
   "outputs": [],
   "source": []
  }
 ],
 "metadata": {
  "celltoolbar": "Tags",
  "colab": {
   "collapsed_sections": [],
   "name": "p1_basic_syntax.ipynb",
   "provenance": [],
   "version": "0.3.2"
  },
  "kernelspec": {
   "display_name": "Python 3",
   "language": "python",
   "name": "python3"
  },
  "language_info": {
   "codemirror_mode": {
    "name": "ipython",
    "version": 3
   },
   "file_extension": ".py",
   "mimetype": "text/x-python",
   "name": "python",
   "nbconvert_exporter": "python",
   "pygments_lexer": "ipython3",
   "version": "3.8.8"
  }
 },
 "nbformat": 4,
 "nbformat_minor": 1
}

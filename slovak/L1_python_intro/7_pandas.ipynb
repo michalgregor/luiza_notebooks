{
 "cells": [
  {
   "cell_type": "code",
   "execution_count": null,
   "metadata": {
    "colab": {
     "base_uri": "https://localhost:8080/",
     "height": 34
    },
    "colab_type": "code",
    "id": "YY7xZQOnik6_",
    "outputId": "9b9fd722-9779-4502-9e53-7a3a677206b7"
   },
   "outputs": [],
   "source": [
    "#@title -- Downloading Data -- { display-mode: \"form\" }\n",
    "!{sys.executable} -m pip install git+https://github.com/michalgregor/class_utils.git\n",
    "from class_utils.download import download_file_maybe_extract\n",
    "download_file_maybe_extract(\n",
    "    \"https://github.com/michalgregor/luiza_notebooks/blob/198b2032e36fbbcfe4c815fe0907eedab3345810/data/iris.csv?raw=true\",\n",
    "    directory=\"data\"\n",
    ")"
   ]
  },
  {
   "cell_type": "markdown",
   "metadata": {
    "tags": [
     "sk"
    ]
   },
   "source": [
    "## Balíček `pandas`\n",
    "\n",
    "Pri práci s dátami vie byť veľmi užitočný balíček `pandas`. Umožňuje načítať dáta z rôznych typov súborov, z databáz, komfortným spôsobom s nimi pracovať, vypočítať z nich základné štatistické ukazovatele, rýchlo zobraziť jednoduché grafy a pod.\n",
    "\n",
    "### Dátové rámce\n",
    "\n",
    "Základným dátovým typom v balíčku `pandas` sú dátové rámce – v podstate sú to tabuľky, kde stĺpce obsahujú určité pomenované atribúty a riadky zodpovedajú jednotlivým dátovým záznamom. Ak máme určité dáta s atribútmi `attr1, attr2, attr3`, vieme dátový rámec vytvoriť nasledovným spôsobom:\n",
    "\n"
   ]
  },
  {
   "cell_type": "code",
   "execution_count": null,
   "metadata": {
    "colab": {},
    "colab_type": "code",
    "id": "fbYNLmcXiYPN",
    "outputId": "e0333ee2-37cf-4d1b-ae6c-393944eded59"
   },
   "outputs": [],
   "source": [
    "import pandas as pd\n",
    "\n",
    "df = pd.DataFrame([[1, 2, 3], [4, 5, 6], [7, 8, 9]], columns=[\"attr1\", \"attr2\", \"attr3\"])\n",
    "print(df)"
   ]
  },
  {
   "cell_type": "markdown",
   "metadata": {
    "tags": [
     "sk"
    ]
   },
   "source": [
    "Z dátového rámca vieme ľahko vybrať niektoré stĺpce:\n",
    "\n"
   ]
  },
  {
   "cell_type": "code",
   "execution_count": null,
   "metadata": {
    "colab": {},
    "colab_type": "code",
    "id": "bC0bSAo0iYQG",
    "outputId": "1fd26302-b00f-4097-e246-a07a833e3a90"
   },
   "outputs": [],
   "source": [
    "a = df[\"attr1\"]\n",
    "print(a)"
   ]
  },
  {
   "cell_type": "code",
   "execution_count": null,
   "metadata": {
    "colab": {},
    "colab_type": "code",
    "id": "RO8TszxMiYQh",
    "outputId": "81829998-b517-4f33-a6ac-43eb0bd88ee6"
   },
   "outputs": [],
   "source": [
    "b = df[[\"attr2\", \"attr3\"]]\n",
    "print('df[[\"attr2\", \"attr3\"]] = \\n{}'.format(b))"
   ]
  },
  {
   "cell_type": "markdown",
   "metadata": {
    "tags": [
     "sk"
    ]
   },
   "source": [
    "Nové stĺpce je možné doplniť tak, že ich adresujeme a priradíme do nich nejaký výraz:\n",
    "\n"
   ]
  },
  {
   "cell_type": "code",
   "execution_count": null,
   "metadata": {
    "colab": {},
    "colab_type": "code",
    "id": "BQVbz6TyiYRC",
    "outputId": "82b788dd-801d-4358-e69a-2ee7c66bd48a"
   },
   "outputs": [],
   "source": [
    "df[\"attr4\"] = df[\"attr2\"] + df[\"attr3\"]\n",
    "print(df)"
   ]
  },
  {
   "cell_type": "markdown",
   "metadata": {
    "tags": [
     "sk"
    ]
   },
   "source": [
    "Zoznam všetkých stĺpcov získame pomocou:\n",
    "\n"
   ]
  },
  {
   "cell_type": "code",
   "execution_count": null,
   "metadata": {
    "colab": {},
    "colab_type": "code",
    "id": "GYRHOdSliYRV",
    "outputId": "4a707114-fa4f-4348-b43b-00da088fda94"
   },
   "outputs": [],
   "source": [
    "cols = df.columns\n",
    "print(cols)"
   ]
  },
  {
   "cell_type": "markdown",
   "metadata": {
    "tags": [
     "sk"
    ]
   },
   "source": [
    "Ak chceme vybrať stĺpec podľa číselného indexu:\n",
    "\n"
   ]
  },
  {
   "cell_type": "code",
   "execution_count": null,
   "metadata": {
    "colab": {},
    "colab_type": "code",
    "id": "7OlQ1Wt7iYRn",
    "outputId": "2d9773af-43ea-413c-e71d-d3c895a02635"
   },
   "outputs": [],
   "source": [
    "a = df.iloc[:, 1]\n",
    "print(a)"
   ]
  },
  {
   "cell_type": "markdown",
   "metadata": {
    "tags": [
     "sk"
    ]
   },
   "source": [
    "Alebo zvoliť len niektoré riadky:\n",
    "\n"
   ]
  },
  {
   "cell_type": "code",
   "execution_count": null,
   "metadata": {
    "colab": {},
    "colab_type": "code",
    "id": "7eN2HlkTiYR-",
    "outputId": "11b7fe50-bd6f-4091-fbfe-33b527adb6c1"
   },
   "outputs": [],
   "source": [
    "a = df.iloc[1:3]\n",
    "print(a)"
   ]
  },
  {
   "cell_type": "markdown",
   "metadata": {
    "tags": [
     "sk"
    ]
   },
   "source": [
    "Použitím vlastnosti `.values` vieme z dátového rámca získať dáta v podobe klasického `numpy` poľa:\n",
    "\n"
   ]
  },
  {
   "cell_type": "code",
   "execution_count": null,
   "metadata": {
    "colab": {},
    "colab_type": "code",
    "id": "hagvCEEeiYSI",
    "outputId": "175cf88b-2a9a-4c63-d5a9-1d510b39ac3d"
   },
   "outputs": [],
   "source": [
    "print(df.values)"
   ]
  },
  {
   "cell_type": "markdown",
   "metadata": {
    "tags": [
     "sk"
    ]
   },
   "source": [
    "### Načítanie dát z csv súboru\n",
    "\n",
    "CSV súbory sú jednoduché textové súbory obsahujúce dáta oddelené čiarkami, napr.:\n",
    "\n",
    "```\n",
    "5.1,3.5,1.4,0.2,setosa\n",
    "7.0,3.2,4.7,1.4,versicolor\n",
    "6.7,3.1,5.6,2.4,virginica\n",
    "```\n",
    "V balíčku `pandas` sa dá na ich načítanie použiť funkcia `read_csv`:\n",
    "\n"
   ]
  },
  {
   "cell_type": "code",
   "execution_count": null,
   "metadata": {
    "colab": {
     "base_uri": "https://localhost:8080/",
     "height": 224
    },
    "colab_type": "code",
    "id": "rEbmKxxqiYST",
    "outputId": "514c789f-8949-404e-fe84-a34754c08dd3"
   },
   "outputs": [],
   "source": [
    "import pandas as pd\n",
    "df = pd.read_csv('data/iris.csv')\n",
    "df.head()"
   ]
  },
  {
   "cell_type": "markdown",
   "metadata": {
    "tags": [
     "sk"
    ]
   },
   "source": [
    "Táto funkcia má zopár parametrov, ktoré treba správne nastaviť – napr. nastaviť `sep=';'` ak nie sú dáta oddelené čiarkami, ale bodkočiarkami alebo nastaviť `header=False` ak `pandas` nedeteguje správne, že CSV súbor nemá hlavičku.\n",
    "\n",
    "### Prekódovanie kategorického atribútu na číselný\n",
    "\n",
    "Niektoré metódy nevedia pracovať s kategorickými atribútmi (takými, ktoré nadobúdajú určitý konečný počet slovných hodnôt). V tom prípade treba také atribúty prekódovať na číselné. Je to možné urobiť napríklad pomocou triedy `OrdinalEncoder`  z balíčka `sklearn`:\n",
    "\n"
   ]
  },
  {
   "cell_type": "code",
   "execution_count": null,
   "metadata": {
    "tags": [
     "sk"
    ]
   },
   "outputs": [],
   "source": [
    "from sklearn.preprocessing import OrdinalEncoder\n",
    "ordenc = OrdinalEncoder()\n",
    "\n",
    "# funkcia fit_transform nastaví parametre transformátora\n",
    "# na základe dát a zároveň navrátiť transformované dáta\n",
    "df['species_num'] = ordenc.fit_transform(df[['species']])\n",
    "\n",
    "# z výsledku si pre kontrolu zobrazíme zopár vzoriek\n",
    "df[[\"species\", \"species_num\"]].iloc[[0, 1, 50, 80, 100, 101]]"
   ]
  },
  {
   "cell_type": "markdown",
   "metadata": {
    "tags": [
     "sk"
    ]
   },
   "source": [
    "### Jednoduché štatistiky a grafy\n",
    "\n",
    "Balíček `pandas` umožňuje zobraziť aj jednoduché štatistiky a grafy. Keby sme napríklad chceli vedieť základné informácie o rozdelení hodnôt v prvom stĺpci, môžeme použiť funkciu `describe`.\n",
    "\n"
   ]
  },
  {
   "cell_type": "code",
   "execution_count": null,
   "metadata": {
    "colab": {},
    "colab_type": "code",
    "id": "BNNxpJO3iYSn",
    "outputId": "d90b7c84-4305-4b9b-eab3-996653ac0d1b"
   },
   "outputs": [],
   "source": [
    "print(df.iloc[:, 0].describe())"
   ]
  },
  {
   "cell_type": "markdown",
   "metadata": {
    "tags": [
     "sk"
    ]
   },
   "source": [
    "#### Boxplot\n",
    "\n",
    "Alebo si môžeme zobraziť `boxplot`, ktorý nám dá podobnú informáciu v grafickej podobe:\n",
    "\n"
   ]
  },
  {
   "cell_type": "code",
   "execution_count": null,
   "metadata": {
    "colab": {
     "base_uri": "https://localhost:8080/",
     "height": 286
    },
    "colab_type": "code",
    "id": "8dWNP57XiYS4",
    "outputId": "dd968a8a-bc87-44ab-9214-1264603e3216"
   },
   "outputs": [],
   "source": [
    "df.boxplot(column=df.columns[0])"
   ]
  },
  {
   "cell_type": "markdown",
   "metadata": {
    "tags": [
     "sk"
    ]
   },
   "source": [
    "#### Porovnanie boxplot-ov medzi triedami\n",
    "\n",
    "Ak chceme porovnať boxplot-y jednotlivých tried:\n",
    "\n"
   ]
  },
  {
   "cell_type": "code",
   "execution_count": null,
   "metadata": {
    "colab": {
     "base_uri": "https://localhost:8080/",
     "height": 318
    },
    "colab_type": "code",
    "id": "Sx-RaW4wiYTB",
    "outputId": "85886f38-da7c-41be-8e29-03e49b6671ef"
   },
   "outputs": [],
   "source": [
    "df.boxplot(column=df.columns[0], by='species')"
   ]
  },
  {
   "cell_type": "markdown",
   "metadata": {
    "tags": [
     "sk"
    ]
   },
   "source": [
    "#### Histogramy\n",
    "\n",
    "Obdobne jednoduché je zobraziť histogram hodnôt zo stĺpca:\n",
    "\n"
   ]
  },
  {
   "cell_type": "code",
   "execution_count": null,
   "metadata": {
    "colab": {
     "base_uri": "https://localhost:8080/",
     "height": 286
    },
    "colab_type": "code",
    "id": "9p4xtp6QiYTI",
    "outputId": "c2a0d374-2c1c-422d-d266-340b09c4df68"
   },
   "outputs": [],
   "source": [
    "df[df.columns[0]].plot(bins=20, kind='hist')"
   ]
  },
  {
   "cell_type": "markdown",
   "metadata": {
    "tags": [
     "sk"
    ]
   },
   "source": [
    "#### Porovnanie histogramov medzi triedami\n",
    "\n",
    "Ak chceme porovnať rozdelenie hodnôt naprieč triedami (`species`) môžeme použiť:\n",
    "\n"
   ]
  },
  {
   "cell_type": "code",
   "execution_count": null,
   "metadata": {
    "colab": {
     "base_uri": "https://localhost:8080/",
     "height": 609
    },
    "colab_type": "code",
    "id": "ITF9qsi7iYTR",
    "outputId": "3bc2caad-1efb-418a-e92e-d66dace0d37d"
   },
   "outputs": [],
   "source": [
    "df.hist(column=df.columns[0], by='species', bins=50,\n",
    "        sharex=True, sharey=True, figsize=[10, 8])"
   ]
  },
  {
   "cell_type": "markdown",
   "metadata": {
    "tags": [
     "sk"
    ]
   },
   "source": [
    "### Aplikácia ľubovoľnej funkcie na celý stĺpec\n",
    "\n",
    "Vyššie sme ukázali ako je možné vytvoriť nový stĺpec.V zásade vieme na prvky existujúceho stĺpca aplikovať ľubovoľnú funkciu a výsledok uložiť ako nový stĺpec. Povedzme, že by sme chceli určiť aký počet znakov majú jednotlivé textové reťazce v stĺpci `species` v našej dátovej množine:\n",
    "\n"
   ]
  },
  {
   "cell_type": "code",
   "execution_count": null,
   "metadata": {
    "tags": [
     "sk"
    ]
   },
   "outputs": [],
   "source": [
    "# transformácia\n",
    "df[\"len\"] = df[\"species\"].map(lambda x: len(x))\n",
    "\n",
    "# zobrazíme si niekoľko vzoriek\n",
    "df[\"len\"].iloc[[0, 1, 50, 80, 100, 101]]"
   ]
  },
  {
   "cell_type": "markdown",
   "metadata": {
    "tags": [
     "sk"
    ]
   },
   "source": [
    "### Hromadné porovnávanie a indexovanie prvkov\n",
    "\n",
    "Podobne ako v poliach z balíčka `numpy`, aj v dátových rámcoch je možné nájsť a indexovať záznamy, ktoré spĺňajú určitú podmienku. Napr. vyberieme len tie riadky, kde hodnota nultého stĺpca je väčšia než 5.\n",
    "\n"
   ]
  },
  {
   "cell_type": "code",
   "execution_count": null,
   "metadata": {
    "colab": {
     "base_uri": "https://localhost:8080/",
     "height": 241
    },
    "colab_type": "code",
    "id": "PRNM-NAjiYTe",
    "outputId": "08c3fac7-92d1-471d-90b0-b77a01e8f74f"
   },
   "outputs": [],
   "source": [
    "a = df[df.iloc[:, 0] > 5]\n",
    "a.head()"
   ]
  },
  {
   "cell_type": "code",
   "execution_count": null,
   "metadata": {
    "colab": {},
    "colab_type": "code",
    "id": "N8eMo1Uojyi2"
   },
   "outputs": [],
   "source": []
  }
 ],
 "metadata": {
  "celltoolbar": "Tags",
  "colab": {
   "collapsed_sections": [],
   "name": "p7_pandas.ipynb",
   "provenance": [],
   "version": "0.3.2"
  },
  "kernelspec": {
   "display_name": "Python 3",
   "language": "python",
   "name": "python3"
  },
  "language_info": {
   "codemirror_mode": {
    "name": "ipython",
    "version": 3
   },
   "file_extension": ".py",
   "mimetype": "text/x-python",
   "name": "python",
   "nbconvert_exporter": "python",
   "pygments_lexer": "ipython3",
   "version": "3.8.8"
  }
 },
 "nbformat": 4,
 "nbformat_minor": 1
}

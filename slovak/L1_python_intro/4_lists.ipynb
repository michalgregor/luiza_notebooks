{
 "cells": [
  {
   "cell_type": "markdown",
   "metadata": {
    "tags": [
     "sk"
    ]
   },
   "source": [
    "## Zoznamy\n",
    "\n",
    "Ďalej sa pozrieme na základný typ kontajnerov, ktoré sú k dispozícii v Python-e: na zoznamy. Zoznam – `list` – môžeme chápať ako približnú analógiu polí a vektorov z C++. Zoznam sa dá vytvoriť jednoducho tak, že v hranatých zátvorkách vymenujeme jeho prvky oddelené čiarkou, napr.:\n",
    "\n"
   ]
  },
  {
   "cell_type": "code",
   "execution_count": null,
   "metadata": {
    "colab": {},
    "colab_type": "code",
    "id": "XAhWFhiVh7aX",
    "outputId": "34d3f657-ae90-4ecf-a3c4-c04090e85460"
   },
   "outputs": [],
   "source": [
    "A = [1, 2, 3, 4, 5]\n",
    "print(A)"
   ]
  },
  {
   "cell_type": "markdown",
   "metadata": {
    "tags": [
     "sk"
    ]
   },
   "source": [
    "Ako vidno, zoznamy sa dajú vypísať rovnako ako klasické premenné – priamo pomocou funkcie `print`.\n",
    "\n",
    "Zoznam môže obsahovať ľubovoľné objekty – aj iné zoznamy:\n",
    "\n"
   ]
  },
  {
   "cell_type": "code",
   "execution_count": null,
   "metadata": {
    "colab": {},
    "colab_type": "code",
    "id": "wwoHvZs5h7bL",
    "outputId": "49dc9165-6a7a-4ea2-8915-2fcf57c6566d"
   },
   "outputs": [],
   "source": [
    "B = [[3, 3, 3, 4], [1, 2], [7, 7, 7]]\n",
    "print(B)"
   ]
  },
  {
   "cell_type": "markdown",
   "metadata": {
    "tags": [
     "sk"
    ]
   },
   "source": [
    "### Indexovanie\n",
    "\n",
    "Prvky zoznamu sa indexujú pomocou hranatých zátvoriek. Indexuje sa od 0:\n",
    "\n"
   ]
  },
  {
   "cell_type": "code",
   "execution_count": null,
   "metadata": {
    "colab": {},
    "colab_type": "code",
    "id": "dl0cVLhth7bz",
    "outputId": "9247b772-1a6d-48cb-bf42-0758e54d9e80"
   },
   "outputs": [],
   "source": [
    "A = [1, 2, 3, 4, 5]\n",
    "print(A[2])"
   ]
  },
  {
   "cell_type": "markdown",
   "metadata": {
    "tags": [
     "sk"
    ]
   },
   "source": [
    "Indexovať sa dajú aj segmenty zoznamu – v tom prípade sa udáva prvý prvok segmentu, dvojbodka a koniec segmentu:\n",
    "\n"
   ]
  },
  {
   "cell_type": "code",
   "execution_count": null,
   "metadata": {
    "colab": {},
    "colab_type": "code",
    "id": "GgF3MB3hh7cW",
    "outputId": "d1704194-7a49-4761-805d-f901506c4931"
   },
   "outputs": [],
   "source": [
    "A = [1, 2, 3, 4, 5]\n",
    "print(A[1:4])"
   ]
  },
  {
   "cell_type": "markdown",
   "metadata": {
    "tags": [
     "sk"
    ]
   },
   "source": [
    "Ďalšou užitočnou možnosťou je indexovanie prvkov od konca poľa – robí sa to pomocou záporných indexov. Index `-1` znamená posledný prvok, `-2` predposledný prvok atď. Napríklad:\n",
    "\n"
   ]
  },
  {
   "cell_type": "code",
   "execution_count": null,
   "metadata": {
    "colab": {},
    "colab_type": "code",
    "id": "nEFx3hNDh7dE",
    "outputId": "f59c8340-605e-4f07-dc60-bd61462bd65a"
   },
   "outputs": [],
   "source": [
    "A = [1, 2, 3, 4, 5]\n",
    "\n",
    "print(\"A = {}\\n\".format(A))\n",
    "print(\"A[-1] = {}\\n\".format(A[-1]))\n",
    "print(\"A[-2] = {}\\n\".format(A[-2]))\n",
    "print(\"A[2:-1] = {}\\n\".format(A[2:-1]))"
   ]
  },
  {
   "cell_type": "markdown",
   "metadata": {
    "tags": [
     "sk"
    ]
   },
   "source": [
    "### Veľkosť zoznamu\n",
    "\n",
    "Veľkosť zoznamu sa dá – podobne ako pri textových reťazcoch – zistiť pomocou funkcie `len`:\n",
    "\n"
   ]
  },
  {
   "cell_type": "code",
   "execution_count": null,
   "metadata": {
    "colab": {},
    "colab_type": "code",
    "id": "yJhFuNn_h7ds",
    "outputId": "03a6615f-f331-478f-858f-dab70ce89255"
   },
   "outputs": [],
   "source": [
    "A = [1, 2, 3, 4, 5]\n",
    "print(len(A))"
   ]
  },
  {
   "cell_type": "markdown",
   "metadata": {
    "tags": [
     "sk"
    ]
   },
   "source": [
    "### Iterácia cez zoznamy\n",
    "\n",
    "Cez prvky zoznamu sa dá iterovať klasickým python-ovým `for` cyklom:\n",
    "\n"
   ]
  },
  {
   "cell_type": "code",
   "execution_count": null,
   "metadata": {
    "tags": [
     "sk"
    ]
   },
   "outputs": [],
   "source": [
    "A = [1, 2, 3, 4, 5]\n",
    "\n",
    "for x in A:                       # pre každý prvok x zo zoznamu A\n",
    "    print(\"Prvok {}\".format(x))   # vypíš: Prvok x"
   ]
  },
  {
   "cell_type": "markdown",
   "metadata": {
    "tags": [
     "sk"
    ]
   },
   "source": [
    "Ak potrebujeme počas iterácie poznať aj index prvku, môžeme použiť funkciu `enumerate`:\n",
    "\n"
   ]
  },
  {
   "cell_type": "code",
   "execution_count": null,
   "metadata": {
    "colab": {},
    "colab_type": "code",
    "id": "cCKSq2gPh7eU",
    "outputId": "a4cb095f-ab28-481c-917e-be71bb7beca4"
   },
   "outputs": [],
   "source": [
    "A = [1, 2, 3, 4, 5]\n",
    "\n",
    "for i, x in enumerate(A):\n",
    "    print(\"Element {} = {}\".format(i, x))"
   ]
  },
  {
   "cell_type": "markdown",
   "metadata": {
    "tags": [
     "sk"
    ]
   },
   "source": [
    "Rovnako, ak chceme paralelne iterovať cez dva zoznamy, znovu môžeme použiť funkciu `zip`:\n",
    "\n"
   ]
  },
  {
   "cell_type": "code",
   "execution_count": null,
   "metadata": {
    "colab": {},
    "colab_type": "code",
    "id": "LiIzeUzth7eg",
    "outputId": "2ae00c9e-bcc5-43db-95e1-32956d753c51"
   },
   "outputs": [],
   "source": [
    "A = [1, 2, 3, 4, 5]\n",
    "B = ['a', 'b', 'c', 'd', 'e']\n",
    "\n",
    "for a, b in zip(A, B):\n",
    "    print(a, b)"
   ]
  },
  {
   "cell_type": "markdown",
   "metadata": {
    "tags": [
     "sk"
    ]
   },
   "source": [
    "Obidve funkcie je možné aj kombinovať:\n",
    "\n"
   ]
  },
  {
   "cell_type": "code",
   "execution_count": null,
   "metadata": {
    "colab": {},
    "colab_type": "code",
    "id": "58A97sESh7ep",
    "outputId": "736022ac-efbf-4392-a819-e6b8f4f3c4ab"
   },
   "outputs": [],
   "source": [
    "A = [1, 2, 3, 4, 5]\n",
    "B = ['a', 'b', 'c', 'd', 'e']\n",
    "\n",
    "for i, (a, b) in enumerate(zip(A, B)):\n",
    "    print(i, a, b)"
   ]
  },
  {
   "cell_type": "markdown",
   "metadata": {
    "tags": [
     "sk"
    ]
   },
   "source": [
    "Obdobná pomocná funkcia existuje aj pre iteráciu v obrátenom poradí – t.j. od posledného prvku po prvý prvok. Nazýva sa `reversed` a jej použitie môže vyzerať nasledovne:\n",
    "\n"
   ]
  },
  {
   "cell_type": "code",
   "execution_count": null,
   "metadata": {
    "colab": {},
    "colab_type": "code",
    "id": "3CjnPuVyh7ex",
    "outputId": "5f793533-8c50-4b19-efd0-8920e28c0052"
   },
   "outputs": [],
   "source": [
    "A = [1, 2, 3, 4, 5]\n",
    "\n",
    "for a in reversed(A):\n",
    "    print(a)"
   ]
  },
  {
   "cell_type": "markdown",
   "metadata": {
    "tags": [
     "sk"
    ]
   },
   "source": [
    "### Operátor `+`\n",
    "\n",
    "Zoznamy sa dajú spájať pomocou operátora `+`:\n",
    "\n"
   ]
  },
  {
   "cell_type": "code",
   "execution_count": null,
   "metadata": {
    "colab": {},
    "colab_type": "code",
    "id": "QHdnnU_Eh7e8",
    "outputId": "6f3e4e9f-2e0a-42d4-809c-d0bf4a8b8eb3"
   },
   "outputs": [],
   "source": [
    "A = [1, 2, 3, 4, 5]\n",
    "B = [6, 7, 8, 9, 10]\n",
    "\n",
    "C = A + B\n",
    "\n",
    "print(C)"
   ]
  },
  {
   "cell_type": "markdown",
   "metadata": {
    "tags": [
     "sk"
    ]
   },
   "source": [
    "### Prázdny zoznam\n",
    "\n",
    "Je možné vytvoriť aj prázdny zoznam:\n",
    "\n"
   ]
  },
  {
   "cell_type": "code",
   "execution_count": null,
   "metadata": {
    "colab": {},
    "colab_type": "code",
    "id": "Ibpy7arWh7fE",
    "outputId": "ea1044c4-6401-4009-cde0-93808763571a"
   },
   "outputs": [],
   "source": [
    "A = []\n",
    "print(A)\n",
    "\n",
    "A2 = list()\n",
    "print(A2)"
   ]
  },
  {
   "cell_type": "markdown",
   "metadata": {
    "tags": [
     "sk"
    ]
   },
   "source": [
    "### Pridávanie prvkov\n",
    "\n",
    "Pomocou funkcie `append` sa dajú na koniec zoznamu pridávať ďalšie prvky:\n",
    "\n"
   ]
  },
  {
   "cell_type": "code",
   "execution_count": null,
   "metadata": {
    "colab": {},
    "colab_type": "code",
    "id": "gH9Uvl4wh7fN",
    "outputId": "89a24a78-474a-46b3-c3c5-5bae0c226a82"
   },
   "outputs": [],
   "source": [
    "A = []\n",
    "A.append(1)\n",
    "A.append(2)\n",
    "\n",
    "print(A)"
   ]
  },
  {
   "cell_type": "markdown",
   "metadata": {
    "tags": [
     "sk"
    ]
   },
   "source": [
    "Ak chceme pridať viacero prvkov naraz, môžeme použiť funkciu `extend`:\n",
    "\n"
   ]
  },
  {
   "cell_type": "code",
   "execution_count": null,
   "metadata": {
    "colab": {},
    "colab_type": "code",
    "id": "qoSzDU6Ch7fZ",
    "outputId": "55b65401-6d3e-41bf-8762-36b2e0154527"
   },
   "outputs": [],
   "source": [
    "A = [1, 2]\n",
    "A.extend([3, 4, 5])\n",
    "\n",
    "print(A)"
   ]
  },
  {
   "cell_type": "markdown",
   "metadata": {
    "tags": [
     "sk"
    ]
   },
   "source": [
    "Pri použití funkcie `append` by sa totiž celý zoznam pridal ako jeden prvok:\n",
    "\n"
   ]
  },
  {
   "cell_type": "code",
   "execution_count": null,
   "metadata": {
    "colab": {},
    "colab_type": "code",
    "id": "ExyWwZn0h7fj",
    "outputId": "366bc0ba-3006-42aa-9d69-7aeb1b0ea417"
   },
   "outputs": [],
   "source": [
    "A = [1, 2]\n",
    "A.append([3, 4, 5])\n",
    "\n",
    "print(A)"
   ]
  },
  {
   "cell_type": "markdown",
   "metadata": {
    "tags": [
     "sk"
    ]
   },
   "source": [
    "Prvky sa dajú vkladať aj doprostred zoznamu. Použijeme funkciu `insert` – ako prvý argument dávame pozíciu prvku pred ktorý sa má vkladať a ako druhý nový prvok, ktorý sa má vložiť:\n",
    "\n"
   ]
  },
  {
   "cell_type": "code",
   "execution_count": null,
   "metadata": {
    "colab": {},
    "colab_type": "code",
    "id": "kT3pkmwAh7ft",
    "outputId": "d67f64e5-1b7e-4762-82cb-46f7883176fa"
   },
   "outputs": [],
   "source": [
    "A = [1, 2, 3]\n",
    "A.insert(2, 11)\n",
    "\n",
    "print(A)"
   ]
  },
  {
   "cell_type": "markdown",
   "metadata": {
    "tags": [
     "sk"
    ]
   },
   "source": [
    "### Mazanie prvkov\n",
    "\n",
    "Prvky sa dajú zo zoznamu aj mazať – pomocou kľúčového slova `del`:\n",
    "\n"
   ]
  },
  {
   "cell_type": "code",
   "execution_count": null,
   "metadata": {
    "colab": {},
    "colab_type": "code",
    "id": "GliXnK2Ph7f_",
    "outputId": "f73ca2f9-1e04-41ec-fc7f-471ece0c31ac"
   },
   "outputs": [],
   "source": [
    "A = [1, 2, 3]\n",
    "del A[1]\n",
    "\n",
    "print(A)"
   ]
  },
  {
   "cell_type": "markdown",
   "metadata": {
    "tags": [
     "sk"
    ]
   },
   "source": [
    "### List comprehensions\n",
    "\n",
    "Zoznamy sa dajú vytvárať aj skráteným zápisom – pomocou tzv. *list comprehensions* :\n",
    "\n"
   ]
  },
  {
   "cell_type": "code",
   "execution_count": null,
   "metadata": {
    "tags": [
     "sk"
    ]
   },
   "outputs": [],
   "source": [
    "# Pre každé i z <0, 10) pridá do zoznamu druhú mocninu i:\n",
    "L = [x**2 for x in range(10)] \n",
    "print(L)"
   ]
  },
  {
   "cell_type": "code",
   "execution_count": null,
   "metadata": {
    "colab": {},
    "colab_type": "code",
    "id": "l2FTIizUiAMM"
   },
   "outputs": [],
   "source": []
  }
 ],
 "metadata": {
  "celltoolbar": "Tags",
  "colab": {
   "name": "p4_lists.ipynb",
   "provenance": [],
   "version": "0.3.2"
  },
  "kernelspec": {
   "display_name": "Python 3",
   "language": "python",
   "name": "python3"
  },
  "language_info": {
   "codemirror_mode": {
    "name": "ipython",
    "version": 3
   },
   "file_extension": ".py",
   "mimetype": "text/x-python",
   "name": "python",
   "nbconvert_exporter": "python",
   "pygments_lexer": "ipython3",
   "version": "3.7.5"
  }
 },
 "nbformat": 4,
 "nbformat_minor": 1
}

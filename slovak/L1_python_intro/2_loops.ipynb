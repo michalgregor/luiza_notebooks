{
 "cells": [
  {
   "cell_type": "markdown",
   "metadata": {},
   "source": [
    "## Cykly\n",
    "\n",
    "V Python-e sa neiteruje priamo pomocou klasického číselného cyklu `for`. Iterácia je vždy cez nejaký objekt – buď cez určitý kontajner objektov (t.j. že určitá operácia sa vykoná pre každý objekt) alebo cez generátor – pomocný objekt, ktorý generuje čísla za behu.\n",
    "\n",
    "### Pomocný objekt typu `range`\n",
    "\n",
    "V Python-e sa takýto typ cyklu implementuje pomoc pomocného objektu `range`. `range(a)` je postupnosť čísel od `0` po `a` s krokom `1` (tak, že `a` už do postupnosti nepatrí), t.j.:\n",
    "\n"
   ]
  },
  {
   "cell_type": "code",
   "execution_count": null,
   "metadata": {
    "tags": [
     "sk"
    ]
   },
   "outputs": [],
   "source": [
    "print(list(range(10)))         # aby sme mohli postupnosť čísel vypísať\n",
    "                               # naraz, robíme z nej najprv zoznam, t.j. list"
   ]
  },
  {
   "cell_type": "markdown",
   "metadata": {
    "tags": [
     "sk"
    ]
   },
   "source": [
    "Ak chceme, aby postupnosť začala z iného počiatočného čísla, môžeme použiť rozšírenú verziu `range(a, b)`, napr.:\n",
    "\n"
   ]
  },
  {
   "cell_type": "code",
   "execution_count": null,
   "metadata": {
    "tags": [
     "sk"
    ]
   },
   "outputs": [],
   "source": [
    "print(list(range(2, 10)))     # postupnosť od 2 po 10 s krokom 1"
   ]
  },
  {
   "cell_type": "markdown",
   "metadata": {
    "tags": [
     "sk"
    ]
   },
   "source": [
    "Ak chceme zmeniť aj veľkosť kroku, existuje verzia `range(a, b, s)` s tromi argumentami, kde `s` je krok:\n",
    "\n"
   ]
  },
  {
   "cell_type": "code",
   "execution_count": null,
   "metadata": {
    "tags": [
     "sk"
    ]
   },
   "outputs": [],
   "source": [
    "print(list(range(2, 10, 3)))     # postupnosť od 2 po 10 s krokom 3"
   ]
  },
  {
   "cell_type": "markdown",
   "metadata": {
    "tags": [
     "sk"
    ]
   },
   "source": [
    "### Cyklus typu `for`\n",
    "\n",
    "Ak chceme teraz implementovať cyklus `for`, ktorý by iteroval od 0 po 10 s krokom 1, vieme to urobiť pomocou pomocného objektu `range`. Vieme už, že `range` objekt generujúci takúto postupnosť čísel získame jednoducho volaním `range(10)`. Cyklus `for` bude potom vyzerať nasledovne:\n",
    "\n"
   ]
  },
  {
   "cell_type": "code",
   "execution_count": null,
   "metadata": {
    "tags": [
     "sk"
    ]
   },
   "outputs": [],
   "source": [
    "for i in range(10):            # pre každé i z range(10) vypíš i\n",
    "    print(i)"
   ]
  },
  {
   "cell_type": "markdown",
   "metadata": {
    "tags": [
     "sk"
    ]
   },
   "source": [
    "#### Paralelná iterácia\n",
    "\n",
    "V Python-e je možné iterovať aj paralelne po dvoch iterovateľných objektoch – pomocou funkcie `zip`:\n",
    "\n"
   ]
  },
  {
   "cell_type": "code",
   "execution_count": null,
   "metadata": {
    "colab": {},
    "colab_type": "code",
    "id": "lXnCbF59hlT_",
    "outputId": "d81d224f-4bb5-4d6a-cab3-028e2de2f644"
   },
   "outputs": [],
   "source": [
    "for i, j in zip(range(0, 5), range(5, 10)):\n",
    "    print(i, j)"
   ]
  },
  {
   "cell_type": "markdown",
   "metadata": {
    "tags": [
     "sk"
    ]
   },
   "source": [
    "<div style=\"background-color: #C2EB66; padding: 15px; padding-top: 5px; margin-top: 10px; margin-left:-15px\">\n",
    "<h2>&#218;loha</h2>\n",
    "\n",
    "Nap&#237;&#353;te pomocou cyklu for k&#243;d, ktor&#253; vyp&#237;&#353;e v&#353;etky p&#225;rne &#269;&#237;sla od 0 po 10:\n",
    "</div>"
   ]
  },
  {
   "cell_type": "code",
   "execution_count": null,
   "metadata": {
    "colab": {},
    "colab_type": "code",
    "id": "8-gupMoUhlUK"
   },
   "outputs": [],
   "source": []
  },
  {
   "cell_type": "markdown",
   "metadata": {
    "tags": [
     "sk"
    ]
   },
   "source": [
    "### Cyklus  typu `while`\n",
    "\n",
    "Tak ako iné jazyky, má aj Python okrem cyklu `for` aj cyklus `while`, ktorý iteruje dovtedy, kým je splnená určitá podmienka, napr.:\n",
    "\n"
   ]
  },
  {
   "cell_type": "code",
   "execution_count": null,
   "metadata": {
    "colab": {},
    "colab_type": "code",
    "id": "Yi5uLHfwhlUc",
    "outputId": "cc853bd1-993a-484c-ce58-e482cd5dfcbb"
   },
   "outputs": [],
   "source": [
    "c = 2\n",
    "while c < 100:\n",
    "    c **= 2\n",
    "    print(c)"
   ]
  },
  {
   "cell_type": "code",
   "execution_count": null,
   "metadata": {
    "colab": {},
    "colab_type": "code",
    "id": "8r0uvPzphnp7"
   },
   "outputs": [],
   "source": []
  }
 ],
 "metadata": {
  "celltoolbar": "Tags",
  "colab": {
   "collapsed_sections": [],
   "name": "p2_loops.ipynb",
   "provenance": [],
   "version": "0.3.2"
  },
  "kernelspec": {
   "display_name": "Python 3",
   "language": "python",
   "name": "python3"
  },
  "language_info": {
   "codemirror_mode": {
    "name": "ipython",
    "version": 3
   },
   "file_extension": ".py",
   "mimetype": "text/x-python",
   "name": "python",
   "nbconvert_exporter": "python",
   "pygments_lexer": "ipython3",
   "version": "3.7.5"
  }
 },
 "nbformat": 4,
 "nbformat_minor": 1
}

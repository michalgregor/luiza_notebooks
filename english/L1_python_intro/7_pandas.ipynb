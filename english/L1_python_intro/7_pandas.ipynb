{
 "cells": [
  {
   "cell_type": "code",
   "execution_count": null,
   "metadata": {
    "colab": {
     "base_uri": "https://localhost:8080/",
     "height": 34
    },
    "colab_type": "code",
    "id": "YY7xZQOnik6_",
    "outputId": "9b9fd722-9779-4502-9e53-7a3a677206b7"
   },
   "outputs": [],
   "source": [
    "#@title -- Downloading Data -- { display-mode: \"form\" }\n",
    "import sys\n",
    "!{sys.executable} -m pip install git+https://github.com/michalgregor/class_utils.git\n",
    "\n",
    "from class_utils.download import download_file_maybe_extract\n",
    "download_file_maybe_extract(\n",
    "    \"https://github.com/michalgregor/luiza_notebooks/blob/198b2032e36fbbcfe4c815fe0907eedab3345810/data/iris.csv?raw=true\",\n",
    "    directory=\"data\"\n",
    ")"
   ]
  },
  {
   "cell_type": "markdown",
   "metadata": {
    "colab_type": "text",
    "id": "_mh3Kn5CiYO5",
    "tags": [
     "en"
    ]
   },
   "source": [
    "## Package `pandas`\n",
    "\n",
    "When handling data, the `pandas` package is going to be very useful. It enables reading data from various file formats, from databases etc. It provides comfortable ways of processing them, computing their basic statistical properties, quickly displaying simple plots and so on.\n",
    "\n",
    "### Dataframes\n",
    "\n",
    "Dataframe is the basic `pandas` data type. It is basically a table, where the named columns represent certain attributes and the rows correspond to entries. If we have some data with attributes `attr1, attr2, attr3`, we can use it to create a dataframe as follows:\n",
    "\n"
   ]
  },
  {
   "cell_type": "code",
   "execution_count": null,
   "metadata": {
    "colab": {},
    "colab_type": "code",
    "id": "fbYNLmcXiYPN",
    "outputId": "e0333ee2-37cf-4d1b-ae6c-393944eded59"
   },
   "outputs": [],
   "source": [
    "import pandas as pd\n",
    "\n",
    "df = pd.DataFrame([[1, 2, 3], [4, 5, 6], [7, 8, 9]], columns=[\"attr1\", \"attr2\", \"attr3\"])\n",
    "print(df)"
   ]
  },
  {
   "cell_type": "markdown",
   "metadata": {
    "colab_type": "text",
    "id": "t17NMUyxiYP8",
    "tags": [
     "en"
    ]
   },
   "source": [
    "Selection of particular columns is easy:\n",
    "\n"
   ]
  },
  {
   "cell_type": "code",
   "execution_count": null,
   "metadata": {
    "colab": {},
    "colab_type": "code",
    "id": "bC0bSAo0iYQG",
    "outputId": "1fd26302-b00f-4097-e246-a07a833e3a90"
   },
   "outputs": [],
   "source": [
    "a = df[\"attr1\"]\n",
    "print(a)"
   ]
  },
  {
   "cell_type": "code",
   "execution_count": null,
   "metadata": {
    "colab": {},
    "colab_type": "code",
    "id": "RO8TszxMiYQh",
    "outputId": "81829998-b517-4f33-a6ac-43eb0bd88ee6"
   },
   "outputs": [],
   "source": [
    "b = df[[\"attr2\", \"attr3\"]]\n",
    "print('df[[\"attr2\", \"attr3\"]] = \\n{}'.format(b))"
   ]
  },
  {
   "cell_type": "markdown",
   "metadata": {
    "colab_type": "text",
    "id": "bAyypPFliYQ_",
    "tags": [
     "en"
    ]
   },
   "source": [
    "New columns can be added by indexing them and assigning some new expression to them:\n",
    "\n"
   ]
  },
  {
   "cell_type": "code",
   "execution_count": null,
   "metadata": {
    "colab": {},
    "colab_type": "code",
    "id": "BQVbz6TyiYRC",
    "outputId": "82b788dd-801d-4358-e69a-2ee7c66bd48a"
   },
   "outputs": [],
   "source": [
    "df[\"attr4\"] = df[\"attr2\"] + df[\"attr3\"]\n",
    "print(df)"
   ]
  },
  {
   "cell_type": "markdown",
   "metadata": {
    "colab_type": "text",
    "id": "hcoae5QmiYRP",
    "tags": [
     "en"
    ]
   },
   "source": [
    "Attribute columns can be used to get the list of all columns:\n",
    "\n"
   ]
  },
  {
   "cell_type": "code",
   "execution_count": null,
   "metadata": {
    "colab": {},
    "colab_type": "code",
    "id": "GYRHOdSliYRV",
    "outputId": "4a707114-fa4f-4348-b43b-00da088fda94"
   },
   "outputs": [],
   "source": [
    "cols = df.columns\n",
    "print(cols)"
   ]
  },
  {
   "cell_type": "markdown",
   "metadata": {
    "colab_type": "text",
    "id": "fPNeOJfaiYRk",
    "tags": [
     "en"
    ]
   },
   "source": [
    "If we want to select a column by its numeric index, we can do the following:\n",
    "\n"
   ]
  },
  {
   "cell_type": "code",
   "execution_count": null,
   "metadata": {
    "colab": {},
    "colab_type": "code",
    "id": "7OlQ1Wt7iYRn",
    "outputId": "2d9773af-43ea-413c-e71d-d3c895a02635"
   },
   "outputs": [],
   "source": [
    "a = df.iloc[:, 1]\n",
    "print(a)"
   ]
  },
  {
   "cell_type": "markdown",
   "metadata": {
    "colab_type": "text",
    "id": "-uf1oLiLiYR7",
    "tags": [
     "en"
    ]
   },
   "source": [
    "We can also select rows in the same manner:\n",
    "\n"
   ]
  },
  {
   "cell_type": "code",
   "execution_count": null,
   "metadata": {
    "colab": {},
    "colab_type": "code",
    "id": "7eN2HlkTiYR-",
    "outputId": "11b7fe50-bd6f-4091-fbfe-33b527adb6c1"
   },
   "outputs": [],
   "source": [
    "a = df.iloc[1:3]\n",
    "print(a)"
   ]
  },
  {
   "cell_type": "markdown",
   "metadata": {
    "colab_type": "text",
    "id": "dsjoKGbKiYSG",
    "tags": [
     "en"
    ]
   },
   "source": [
    "By using the attribute `.values`, we can extract the data from the dataframe in the form of a standard `numpy` array:\n",
    "\n"
   ]
  },
  {
   "cell_type": "code",
   "execution_count": null,
   "metadata": {
    "colab": {},
    "colab_type": "code",
    "id": "hagvCEEeiYSI",
    "outputId": "175cf88b-2a9a-4c63-d5a9-1d510b39ac3d"
   },
   "outputs": [],
   "source": [
    "print(df.values)"
   ]
  },
  {
   "cell_type": "markdown",
   "metadata": {
    "colab_type": "text",
    "id": "TIZ6rcziiYSR",
    "tags": [
     "en"
    ]
   },
   "source": [
    "### Reading Data from a CSV File\n",
    "\n",
    "CSV file are simple text files containing data separated by commas, e.g.:\n",
    "\n",
    "```\n",
    "5.1,3.5,1.4,0.2,setosa\n",
    "7.0,3.2,4.7,1.4,versicolor\n",
    "6.7,3.1,5.6,2.4,virginica\n",
    "```\n",
    "In the `pandas` package, a CSV file can be loaded using function `read_csv`:\n",
    "\n"
   ]
  },
  {
   "cell_type": "code",
   "execution_count": null,
   "metadata": {
    "colab": {
     "base_uri": "https://localhost:8080/",
     "height": 224
    },
    "colab_type": "code",
    "id": "rEbmKxxqiYST",
    "outputId": "514c789f-8949-404e-fe84-a34754c08dd3"
   },
   "outputs": [],
   "source": [
    "import pandas as pd\n",
    "df = pd.read_csv('data/iris.csv')\n",
    "df.head()"
   ]
  },
  {
   "cell_type": "markdown",
   "metadata": {
    "colab_type": "text",
    "id": "W83MvL4JiYSZ",
    "tags": [
     "en"
    ]
   },
   "source": [
    "This function accepts several arguments, which need to be set up correctly – e.g. argument `sep=';'`, if the entries are not separated by commas, but rather by semicolons or other characters. It is also possible to set `header=False` if the CSV does not have a header – and there are many other options.\n",
    "\n",
    "### Transforming a Categorical Values to Numbers\n",
    "\n",
    "Some methods cannot handle categorical attributes (attributes, which have a certain small number of possible values, often textual values) if their values are represented as strings. In that case we need to convert such values to numeric values. This can be done using class `OrdinalEncoder` from package `sklearn`, for an instance:\n",
    "\n"
   ]
  },
  {
   "cell_type": "code",
   "execution_count": null,
   "metadata": {
    "colab": {
     "base_uri": "https://localhost:8080/",
     "height": 238
    },
    "colab_type": "code",
    "id": "xIM83bW2iYSd",
    "outputId": "60e83191-8fa9-4eec-fed7-043ef9b7e2b3",
    "tags": [
     "en"
    ]
   },
   "outputs": [],
   "source": [
    "from sklearn.preprocessing import OrdinalEncoder\n",
    "ordenc = OrdinalEncoder()\n",
    "\n",
    "# function fit_transform fits the parameters of the transformer\n",
    "# using the data and also returns the transformed data itself\n",
    "df['species_num'] = ordenc.fit_transform(df[['species']])\n",
    "\n",
    "# we will display a few samples to verify that everything worked\n",
    "df[[\"species\", \"species_num\"]].iloc[[0, 1, 50, 80, 100, 101]]"
   ]
  },
  {
   "cell_type": "markdown",
   "metadata": {
    "colab_type": "text",
    "id": "VgurXeSZiYSm",
    "tags": [
     "en"
    ]
   },
   "source": [
    "### Simple Plots and Statistics\n",
    "\n",
    "Package `pandas` can also compute basic statistical measures and do simple plotting. To display information about the distribution of values in a column, we can use function `describe`.\n",
    "\n"
   ]
  },
  {
   "cell_type": "code",
   "execution_count": null,
   "metadata": {
    "colab": {},
    "colab_type": "code",
    "id": "BNNxpJO3iYSn",
    "outputId": "d90b7c84-4305-4b9b-eab3-996653ac0d1b"
   },
   "outputs": [],
   "source": [
    "print(df.iloc[:, 0].describe())"
   ]
  },
  {
   "cell_type": "markdown",
   "metadata": {
    "colab_type": "text",
    "id": "RS-v0M-5iYS3",
    "tags": [
     "en"
    ]
   },
   "source": [
    "#### Boxplot\n",
    "\n",
    "The dataframe interface makes it easy to display boxplots using the builtin `boxplot` function. Boxplots present information akin to that provided by `describe` in graphical form:\n",
    "\n"
   ]
  },
  {
   "cell_type": "code",
   "execution_count": null,
   "metadata": {
    "colab": {
     "base_uri": "https://localhost:8080/",
     "height": 286
    },
    "colab_type": "code",
    "id": "8dWNP57XiYS4",
    "outputId": "dd968a8a-bc87-44ab-9214-1264603e3216"
   },
   "outputs": [],
   "source": [
    "df.boxplot(column=df.columns[0])"
   ]
  },
  {
   "cell_type": "markdown",
   "metadata": {
    "colab_type": "text",
    "id": "CUKP8HCiiYS_",
    "tags": [
     "en"
    ]
   },
   "source": [
    "#### Comparing Boxplots Across Classes\n",
    "\n",
    "If we want to compare boxplots across all individual classes, we can do the following:\n",
    "\n"
   ]
  },
  {
   "cell_type": "code",
   "execution_count": null,
   "metadata": {
    "colab": {
     "base_uri": "https://localhost:8080/",
     "height": 318
    },
    "colab_type": "code",
    "id": "Sx-RaW4wiYTB",
    "outputId": "85886f38-da7c-41be-8e29-03e49b6671ef"
   },
   "outputs": [],
   "source": [
    "df.boxplot(column=df.columns[0], by='species')"
   ]
  },
  {
   "cell_type": "markdown",
   "metadata": {
    "colab_type": "text",
    "id": "TnEkAR1siYTG",
    "tags": [
     "en"
    ]
   },
   "source": [
    "#### Histograms\n",
    "\n",
    "It is similarly easy to display column histograms:\n",
    "\n"
   ]
  },
  {
   "cell_type": "code",
   "execution_count": null,
   "metadata": {
    "colab": {
     "base_uri": "https://localhost:8080/",
     "height": 286
    },
    "colab_type": "code",
    "id": "9p4xtp6QiYTI",
    "outputId": "c2a0d374-2c1c-422d-d266-340b09c4df68"
   },
   "outputs": [],
   "source": [
    "df[df.columns[0]].plot(bins=20, kind='hist')"
   ]
  },
  {
   "cell_type": "markdown",
   "metadata": {
    "colab_type": "text",
    "id": "JwHzBw6ciYTP",
    "tags": [
     "en"
    ]
   },
   "source": [
    "#### Comparing Histograms\n",
    "\n",
    "If we want to compare histograms across the classes, we can use the following:\n",
    "\n"
   ]
  },
  {
   "cell_type": "code",
   "execution_count": null,
   "metadata": {
    "colab": {
     "base_uri": "https://localhost:8080/",
     "height": 609
    },
    "colab_type": "code",
    "id": "ITF9qsi7iYTR",
    "outputId": "3bc2caad-1efb-418a-e92e-d66dace0d37d"
   },
   "outputs": [],
   "source": [
    "df.hist(column=df.columns[0], by='species', bins=50,\n",
    "        sharex=True, sharey=True, figsize=[10, 8])"
   ]
  },
  {
   "cell_type": "markdown",
   "metadata": {
    "colab_type": "text",
    "id": "CU5z0TNTiYTV",
    "tags": [
     "en"
    ]
   },
   "source": [
    "### Applying an Arbitrary Function to an Entire Column\n",
    "\n",
    "In the code presented above we have shown how an entire new column can be created. However, new columns can also be created by applying an arbritrary function to an entire column. Let us suppose that we want to determine the length of each string in column `species` and assign the result to a new column:\n",
    "\n"
   ]
  },
  {
   "cell_type": "code",
   "execution_count": null,
   "metadata": {
    "colab": {
     "base_uri": "https://localhost:8080/",
     "height": 139
    },
    "colab_type": "code",
    "id": "T8FVPHcciYTX",
    "outputId": "59b376d2-4bcf-43a4-d4a2-459e36cf5a07",
    "tags": [
     "en"
    ]
   },
   "outputs": [],
   "source": [
    "# the transformation\n",
    "df[\"len\"] = df[\"species\"].map(lambda x: len(x))\n",
    "\n",
    "# we display a few samples\n",
    "df[\"len\"].iloc[[0, 1, 50, 80, 100, 101]]"
   ]
  },
  {
   "cell_type": "markdown",
   "metadata": {
    "colab_type": "text",
    "id": "Gp5yB5KPiYTd",
    "tags": [
     "en"
    ]
   },
   "source": [
    "### Group Comparisons and Indexing\n",
    "\n",
    "Similarly to `numpy` arrays, it is also possible to find and index entries that meet a certain condition in dataframes. For an instance, we can select rows, in which the value of the 0th column is greater than 5:\n",
    "\n"
   ]
  },
  {
   "cell_type": "code",
   "execution_count": null,
   "metadata": {
    "colab": {
     "base_uri": "https://localhost:8080/",
     "height": 241
    },
    "colab_type": "code",
    "id": "PRNM-NAjiYTe",
    "outputId": "08c3fac7-92d1-471d-90b0-b77a01e8f74f"
   },
   "outputs": [],
   "source": [
    "a = df[df.iloc[:, 0] > 5]\n",
    "a.head()"
   ]
  },
  {
   "cell_type": "code",
   "execution_count": null,
   "metadata": {
    "colab": {},
    "colab_type": "code",
    "id": "N8eMo1Uojyi2"
   },
   "outputs": [],
   "source": []
  }
 ],
 "metadata": {
  "celltoolbar": "Tags",
  "colab": {
   "collapsed_sections": [],
   "name": "p7_pandas.ipynb",
   "provenance": [],
   "version": "0.3.2"
  },
  "kernelspec": {
   "display_name": "Python 3",
   "language": "python",
   "name": "python3"
  },
  "language_info": {
   "codemirror_mode": {
    "name": "ipython",
    "version": 3
   },
   "file_extension": ".py",
   "mimetype": "text/x-python",
   "name": "python",
   "nbconvert_exporter": "python",
   "pygments_lexer": "ipython3",
   "version": "3.8.8"
  }
 },
 "nbformat": 4,
 "nbformat_minor": 1
}

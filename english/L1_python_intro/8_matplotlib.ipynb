{
 "cells": [
  {
   "cell_type": "code",
   "execution_count": null,
   "metadata": {
    "colab": {},
    "colab_type": "code",
    "id": "Qhl-XDGhkAHl"
   },
   "outputs": [],
   "source": [
    "#@title -- Import of Necessary Packages -- { display-mode: \"form\" }\n",
    "import numpy as np\n",
    "import matplotlib.pyplot as plt"
   ]
  },
  {
   "cell_type": "markdown",
   "metadata": {
    "colab_type": "text",
    "id": "nfNykyP0j_KG",
    "tags": [
     "en"
    ]
   },
   "source": [
    "## Plotting Using Package `matplotlib`\n",
    "\n",
    "In Python, one can use package `matplotlib` to handle most plotting tasks. Its interface is very similar to plotting in Matlab. For an instance, this is the code for plotting a simple sine function:\n",
    "\n"
   ]
  },
  {
   "cell_type": "code",
   "execution_count": null,
   "metadata": {
    "colab": {
     "base_uri": "https://localhost:8080/",
     "height": 286
    },
    "colab_type": "code",
    "id": "Ap-eBzgnj_Kl",
    "outputId": "ed5d0bed-3c20-4458-dff5-3f7341e75432",
    "tags": [
     "en"
    ]
   },
   "outputs": [],
   "source": [
    "# We assign values from a certain range to x.\n",
    "x = np.arange(0, 8, 0.1)\n",
    "# We compute sin(x) for each x.\n",
    "y = np.sin(x)\n",
    "\n",
    "# We plot the resulting relationship.\n",
    "plt.plot(x, y)"
   ]
  },
  {
   "cell_type": "markdown",
   "metadata": {
    "colab_type": "text",
    "id": "d0dpZ43Mj_K6",
    "tags": [
     "en"
    ]
   },
   "source": [
    "Axes can be labelled using `plt.xlabel` and `plt.ylabel`.\n",
    "\n"
   ]
  },
  {
   "cell_type": "code",
   "execution_count": null,
   "metadata": {
    "colab": {
     "base_uri": "https://localhost:8080/",
     "height": 300
    },
    "colab_type": "code",
    "id": "cNhWFL4Vj_K-",
    "outputId": "2b0b99f5-e6ba-4754-cced-78fb8bcbd0bd"
   },
   "outputs": [],
   "source": [
    "x = np.arange(0, 8, 0.1)\n",
    "y = np.sin(x)\n",
    "plt.plot(x, y)\n",
    "\n",
    "# =====\n",
    "plt.xlabel(\"x\")\n",
    "plt.ylabel(\"y\")\n",
    "plt.legend(['sin(x)'])"
   ]
  },
  {
   "cell_type": "markdown",
   "metadata": {
    "colab_type": "text",
    "id": "VxFlGlEEj_LJ",
    "tags": [
     "en"
    ]
   },
   "source": [
    "We can also do other things, such as adding a grid using function `plt.grid`:\n",
    "\n"
   ]
  },
  {
   "cell_type": "code",
   "execution_count": null,
   "metadata": {
    "colab": {
     "base_uri": "https://localhost:8080/",
     "height": 283
    },
    "colab_type": "code",
    "id": "R8a5hkZLj_LN",
    "outputId": "b21c9a70-5269-4373-970d-e52eead2b27d"
   },
   "outputs": [],
   "source": [
    "x = np.arange(0, 8, 0.1)\n",
    "y = np.sin(x)\n",
    "plt.plot(x, y)\n",
    "plt.xlabel(\"x\")\n",
    "plt.ylabel(\"y\")\n",
    "plt.legend(['sin(x)'])\n",
    "\n",
    "# =====\n",
    "plt.grid(ls='--')"
   ]
  },
  {
   "cell_type": "markdown",
   "metadata": {
    "colab_type": "text",
    "id": "16897hmgj_LW",
    "tags": [
     "en"
    ]
   },
   "source": [
    "We can also specify other properties of the plot when calling `plt.plot`, e.g. the line color (such as 'r' for red) or line style (such as '--' for a dashed line):\n",
    "\n"
   ]
  },
  {
   "cell_type": "code",
   "execution_count": null,
   "metadata": {
    "colab": {
     "base_uri": "https://localhost:8080/",
     "height": 300
    },
    "colab_type": "code",
    "id": "UglCv2Cij_LZ",
    "outputId": "ce41acec-cab6-4956-8ada-fe48737f231e"
   },
   "outputs": [],
   "source": [
    "x = np.arange(0, 8, 0.1)\n",
    "y = np.sin(x)\n",
    "plt.plot(x, y)\n",
    "plt.xlabel(\"x\")\n",
    "plt.ylabel(\"y\")\n",
    "plt.legend(['sin(x)'])\n",
    "plt.grid(ls='--')\n",
    "\n",
    "# =====\n",
    "z = np.exp(0.1*x)\n",
    "plt.plot(x, z, 'r--')"
   ]
  },
  {
   "cell_type": "markdown",
   "metadata": {
    "colab_type": "text",
    "id": "SfxW9hSCj_Lk",
    "tags": [
     "en"
    ]
   },
   "source": [
    "We update the legend – expression `np.exp` can be written using LaTeX notation, in which case it displays in the proper mathematical format:\n",
    "\n"
   ]
  },
  {
   "cell_type": "code",
   "execution_count": null,
   "metadata": {
    "colab": {
     "base_uri": "https://localhost:8080/",
     "height": 300
    },
    "colab_type": "code",
    "id": "SkGEguxCj_Lm",
    "outputId": "228a16ad-caef-4fce-f9ae-ee90892b5959"
   },
   "outputs": [],
   "source": [
    "x = np.arange(0, 8, 0.1)\n",
    "y = np.sin(x)\n",
    "plt.plot(x, y)\n",
    "plt.xlabel(\"x\")\n",
    "plt.ylabel(\"y\")\n",
    "plt.legend(['sin(x)'])\n",
    "plt.grid(ls='--')\n",
    "z = np.exp(0.1*x)\n",
    "plt.plot(x, z, 'r--')\n",
    "\n",
    "# =====\n",
    "plt.legend(['$\\sin(x)$', '$e^{0.1x}$'])"
   ]
  },
  {
   "cell_type": "markdown",
   "metadata": {
    "colab_type": "text",
    "id": "2b0tzNcfj_Lu",
    "tags": [
     "en"
    ]
   },
   "source": [
    "## Further Functionality\n",
    "\n",
    "Package `matplotlib` also contains a huge number of other function and features – it really is very flexible. More information on these topics can be found in its [documentation](http://matplotlib.org/index.html). It is also possible to study the following [simple tutorial](http://matplotlib.org/users/pyplot_tutorial.html). There is also a [gallery of plots](http://matplotlib.org/gallery.html) for inspiration.\n",
    "\n"
   ]
  },
  {
   "cell_type": "code",
   "execution_count": null,
   "metadata": {
    "colab": {},
    "colab_type": "code",
    "id": "tuqlSghOj_Lx"
   },
   "outputs": [],
   "source": []
  }
 ],
 "metadata": {
  "celltoolbar": "Tags",
  "colab": {
   "collapsed_sections": [],
   "name": "p8_matplotlib.ipynb",
   "provenance": [],
   "version": "0.3.2"
  },
  "kernelspec": {
   "display_name": "Python 3",
   "language": "python",
   "name": "python3"
  },
  "language_info": {
   "codemirror_mode": {
    "name": "ipython",
    "version": 3
   },
   "file_extension": ".py",
   "mimetype": "text/x-python",
   "name": "python",
   "nbconvert_exporter": "python",
   "pygments_lexer": "ipython3",
   "version": "3.8.8"
  }
 },
 "nbformat": 4,
 "nbformat_minor": 1
}

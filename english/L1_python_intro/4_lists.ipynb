{
 "cells": [
  {
   "cell_type": "markdown",
   "metadata": {
    "colab_type": "text",
    "collapsed": true,
    "id": "PSax9XbQh7aE",
    "tags": [
     "en"
    ]
   },
   "source": [
    "## Lists\n",
    "\n",
    "We will now present the most fundamental type of built-in container, which is available in Python: the list. A list can be understood as a loose analogy of arrays and vectors from C++. A list can be created simply by listing its elements enclosed in square brackets and separated by commas, e.g.:\n",
    "\n"
   ]
  },
  {
   "cell_type": "code",
   "execution_count": null,
   "metadata": {
    "colab": {},
    "colab_type": "code",
    "id": "XAhWFhiVh7aX",
    "outputId": "34d3f657-ae90-4ecf-a3c4-c04090e85460"
   },
   "outputs": [],
   "source": [
    "A = [1, 2, 3, 4, 5]\n",
    "print(A)"
   ]
  },
  {
   "cell_type": "markdown",
   "metadata": {
    "colab_type": "text",
    "id": "tT6QxP35h7bB",
    "tags": [
     "en"
    ]
   },
   "source": [
    "As we can see, lists can be printed just as all the classical variables – directly using the `print` function.\n",
    "\n",
    "A list can contain arbitrary elements – even including other lists:\n",
    "\n"
   ]
  },
  {
   "cell_type": "code",
   "execution_count": null,
   "metadata": {
    "colab": {},
    "colab_type": "code",
    "id": "wwoHvZs5h7bL",
    "outputId": "49dc9165-6a7a-4ea2-8915-2fcf57c6566d"
   },
   "outputs": [],
   "source": [
    "B = [[3, 3, 3, 4], [1, 2], [7, 7, 7]]\n",
    "print(B)"
   ]
  },
  {
   "cell_type": "markdown",
   "metadata": {
    "colab_type": "text",
    "id": "SX6Nwh2Rh7bo",
    "tags": [
     "en"
    ]
   },
   "source": [
    "### Indexing\n",
    "\n",
    "Elements of a list are indexed using square brackets. Indices start at 0:\n",
    "\n"
   ]
  },
  {
   "cell_type": "code",
   "execution_count": null,
   "metadata": {
    "colab": {},
    "colab_type": "code",
    "id": "dl0cVLhth7bz",
    "outputId": "9247b772-1a6d-48cb-bf42-0758e54d9e80"
   },
   "outputs": [],
   "source": [
    "A = [1, 2, 3, 4, 5]\n",
    "print(A[2])"
   ]
  },
  {
   "cell_type": "markdown",
   "metadata": {
    "colab_type": "text",
    "id": "uWpJoRIYh7cM",
    "tags": [
     "en"
    ]
   },
   "source": [
    "Segments of a list can also be indexed – in that case one enters the first element of a segment, a colon and the end of the segment (the number of the one-past-the-last element):\n",
    "\n"
   ]
  },
  {
   "cell_type": "code",
   "execution_count": null,
   "metadata": {
    "colab": {},
    "colab_type": "code",
    "id": "GgF3MB3hh7cW",
    "outputId": "d1704194-7a49-4761-805d-f901506c4931"
   },
   "outputs": [],
   "source": [
    "A = [1, 2, 3, 4, 5]\n",
    "print(A[1:4])"
   ]
  },
  {
   "cell_type": "markdown",
   "metadata": {
    "colab_type": "text",
    "id": "Zre-AZW7h7c5",
    "tags": [
     "en"
    ]
   },
   "source": [
    "Another useful feature of lists is that one can index them from the end – this is done using negative indices. Index `-1` means the last element, `-2` the second but last etc. E.g.:\n",
    "\n"
   ]
  },
  {
   "cell_type": "code",
   "execution_count": null,
   "metadata": {
    "colab": {},
    "colab_type": "code",
    "id": "nEFx3hNDh7dE",
    "outputId": "f59c8340-605e-4f07-dc60-bd61462bd65a"
   },
   "outputs": [],
   "source": [
    "A = [1, 2, 3, 4, 5]\n",
    "\n",
    "print(\"A = {}\\n\".format(A))\n",
    "print(\"A[-1] = {}\\n\".format(A[-1]))\n",
    "print(\"A[-2] = {}\\n\".format(A[-2]))\n",
    "print(\"A[2:-1] = {}\\n\".format(A[2:-1]))"
   ]
  },
  {
   "cell_type": "markdown",
   "metadata": {
    "colab_type": "text",
    "id": "5b4vFd07h7dk",
    "tags": [
     "en"
    ]
   },
   "source": [
    "### The Length of a List\n",
    "\n",
    "The length of a list can – as with strings – be determined using function `len`:\n",
    "\n"
   ]
  },
  {
   "cell_type": "code",
   "execution_count": null,
   "metadata": {
    "colab": {},
    "colab_type": "code",
    "id": "yJhFuNn_h7ds",
    "outputId": "03a6615f-f331-478f-858f-dab70ce89255"
   },
   "outputs": [],
   "source": [
    "A = [1, 2, 3, 4, 5]\n",
    "print(len(A))"
   ]
  },
  {
   "cell_type": "markdown",
   "metadata": {
    "colab_type": "text",
    "id": "mpDNNxBWh7eC",
    "tags": [
     "en"
    ]
   },
   "source": [
    "### Iteration through Lists\n",
    "\n",
    "The standard `for` loop syntax can be used to iterate through lists:\n",
    "\n"
   ]
  },
  {
   "cell_type": "code",
   "execution_count": null,
   "metadata": {
    "colab": {},
    "colab_type": "code",
    "id": "RfPyFaMPh7eG",
    "outputId": "f04bd976-21a7-42cd-852a-b3a83da80068",
    "tags": [
     "en"
    ]
   },
   "outputs": [],
   "source": [
    "A = [1, 2, 3, 4, 5]\n",
    "\n",
    "for x in A:                         # for each element x in list A\n",
    "    print(\"Element {}\".format(x))   # print: Element x"
   ]
  },
  {
   "cell_type": "markdown",
   "metadata": {
    "colab_type": "text",
    "id": "R-9F1CvNh7eQ",
    "tags": [
     "en"
    ]
   },
   "source": [
    "If, during iteration, we need to know the index of the element, we can use `enumerate`:\n",
    "\n"
   ]
  },
  {
   "cell_type": "code",
   "execution_count": null,
   "metadata": {
    "colab": {},
    "colab_type": "code",
    "id": "cCKSq2gPh7eU",
    "outputId": "a4cb095f-ab28-481c-917e-be71bb7beca4"
   },
   "outputs": [],
   "source": [
    "A = [1, 2, 3, 4, 5]\n",
    "\n",
    "for i, x in enumerate(A):\n",
    "    print(\"Element {} = {}\".format(i, x))"
   ]
  },
  {
   "cell_type": "markdown",
   "metadata": {
    "colab_type": "text",
    "id": "37Lvt-Fih7ee",
    "tags": [
     "en"
    ]
   },
   "source": [
    "Similarly, if we want to iterate through two lists in parallel, we can again use `zip`:\n",
    "\n"
   ]
  },
  {
   "cell_type": "code",
   "execution_count": null,
   "metadata": {
    "colab": {},
    "colab_type": "code",
    "id": "LiIzeUzth7eg",
    "outputId": "2ae00c9e-bcc5-43db-95e1-32956d753c51"
   },
   "outputs": [],
   "source": [
    "A = [1, 2, 3, 4, 5]\n",
    "B = ['a', 'b', 'c', 'd', 'e']\n",
    "\n",
    "for a, b in zip(A, B):\n",
    "    print(a, b)"
   ]
  },
  {
   "cell_type": "markdown",
   "metadata": {
    "colab_type": "text",
    "id": "EUA1RiIzh7eo",
    "tags": [
     "en"
    ]
   },
   "source": [
    "Both functions can also be combined:\n",
    "\n"
   ]
  },
  {
   "cell_type": "code",
   "execution_count": null,
   "metadata": {
    "colab": {},
    "colab_type": "code",
    "id": "58A97sESh7ep",
    "outputId": "736022ac-efbf-4392-a819-e6b8f4f3c4ab"
   },
   "outputs": [],
   "source": [
    "A = [1, 2, 3, 4, 5]\n",
    "B = ['a', 'b', 'c', 'd', 'e']\n",
    "\n",
    "for i, (a, b) in enumerate(zip(A, B)):\n",
    "    print(i, a, b)"
   ]
  },
  {
   "cell_type": "markdown",
   "metadata": {
    "colab_type": "text",
    "id": "wAqrzSS3h7ew",
    "tags": [
     "en"
    ]
   },
   "source": [
    "A similar auxiliary function exists for iteration in reverse order – i.e. from the last element to the first. It is called `reversed` and it can be used as follows:\n",
    "\n"
   ]
  },
  {
   "cell_type": "code",
   "execution_count": null,
   "metadata": {
    "colab": {},
    "colab_type": "code",
    "id": "3CjnPuVyh7ex",
    "outputId": "5f793533-8c50-4b19-efd0-8920e28c0052"
   },
   "outputs": [],
   "source": [
    "A = [1, 2, 3, 4, 5]\n",
    "\n",
    "for a in reversed(A):\n",
    "    print(a)"
   ]
  },
  {
   "cell_type": "markdown",
   "metadata": {
    "colab_type": "text",
    "id": "jHJ-1HtNh7e6",
    "tags": [
     "en"
    ]
   },
   "source": [
    "### Operator `+`\n",
    "\n",
    "Lists can be concatenated using operator `+`:\n",
    "\n"
   ]
  },
  {
   "cell_type": "code",
   "execution_count": null,
   "metadata": {
    "colab": {},
    "colab_type": "code",
    "id": "QHdnnU_Eh7e8",
    "outputId": "6f3e4e9f-2e0a-42d4-809c-d0bf4a8b8eb3"
   },
   "outputs": [],
   "source": [
    "A = [1, 2, 3, 4, 5]\n",
    "B = [6, 7, 8, 9, 10]\n",
    "\n",
    "C = A + B\n",
    "\n",
    "print(C)"
   ]
  },
  {
   "cell_type": "markdown",
   "metadata": {
    "colab_type": "text",
    "id": "IB4fnkwuh7fB",
    "tags": [
     "en"
    ]
   },
   "source": [
    "### An Empty List\n",
    "\n",
    "It is also possible to create an empty list:\n",
    "\n"
   ]
  },
  {
   "cell_type": "code",
   "execution_count": null,
   "metadata": {
    "colab": {},
    "colab_type": "code",
    "id": "Ibpy7arWh7fE",
    "outputId": "ea1044c4-6401-4009-cde0-93808763571a"
   },
   "outputs": [],
   "source": [
    "A = []\n",
    "print(A)\n",
    "\n",
    "A2 = list()\n",
    "print(A2)"
   ]
  },
  {
   "cell_type": "markdown",
   "metadata": {
    "colab_type": "text",
    "id": "6ifQpd9-h7fM",
    "tags": [
     "en"
    ]
   },
   "source": [
    "### Adding New Elements\n",
    "\n",
    "New elements can be appended to the end of a list using function `append`:\n",
    "\n"
   ]
  },
  {
   "cell_type": "code",
   "execution_count": null,
   "metadata": {
    "colab": {},
    "colab_type": "code",
    "id": "gH9Uvl4wh7fN",
    "outputId": "89a24a78-474a-46b3-c3c5-5bae0c226a82"
   },
   "outputs": [],
   "source": [
    "A = []\n",
    "A.append(1)\n",
    "A.append(2)\n",
    "\n",
    "print(A)"
   ]
  },
  {
   "cell_type": "markdown",
   "metadata": {
    "colab_type": "text",
    "id": "BYH5LPClh7fW",
    "tags": [
     "en"
    ]
   },
   "source": [
    "If we want to add multiple elements at once, we can use function `extend`:\n",
    "\n"
   ]
  },
  {
   "cell_type": "code",
   "execution_count": null,
   "metadata": {
    "colab": {},
    "colab_type": "code",
    "id": "qoSzDU6Ch7fZ",
    "outputId": "55b65401-6d3e-41bf-8762-36b2e0154527"
   },
   "outputs": [],
   "source": [
    "A = [1, 2]\n",
    "A.extend([3, 4, 5])\n",
    "\n",
    "print(A)"
   ]
  },
  {
   "cell_type": "markdown",
   "metadata": {
    "colab_type": "text",
    "id": "j_lRpm-zh7fh",
    "tags": [
     "en"
    ]
   },
   "source": [
    "If we used function `append`, the entire list would be added as a single element:\n",
    "\n"
   ]
  },
  {
   "cell_type": "code",
   "execution_count": null,
   "metadata": {
    "colab": {},
    "colab_type": "code",
    "id": "ExyWwZn0h7fj",
    "outputId": "366bc0ba-3006-42aa-9d69-7aeb1b0ea417"
   },
   "outputs": [],
   "source": [
    "A = [1, 2]\n",
    "A.append([3, 4, 5])\n",
    "\n",
    "print(A)"
   ]
  },
  {
   "cell_type": "markdown",
   "metadata": {
    "colab_type": "text",
    "id": "YbJ6rKdEh7fr",
    "tags": [
     "en"
    ]
   },
   "source": [
    "Elements can be inserted into the middle of a list. We will use function `insert` – its first argument is the position before which the new element is to be inserted:\n",
    "\n"
   ]
  },
  {
   "cell_type": "code",
   "execution_count": null,
   "metadata": {
    "colab": {},
    "colab_type": "code",
    "id": "kT3pkmwAh7ft",
    "outputId": "d67f64e5-1b7e-4762-82cb-46f7883176fa"
   },
   "outputs": [],
   "source": [
    "A = [1, 2, 3]\n",
    "A.insert(2, 11)\n",
    "\n",
    "print(A)"
   ]
  },
  {
   "cell_type": "markdown",
   "metadata": {
    "colab_type": "text",
    "id": "3taLvnJyh7f8",
    "tags": [
     "en"
    ]
   },
   "source": [
    "### Deleting Elements\n",
    "\n",
    "Elements can be deleted from a list using the keyword `del`. It is only necessary to index them first in the standard way:\n",
    "\n"
   ]
  },
  {
   "cell_type": "code",
   "execution_count": null,
   "metadata": {
    "colab": {},
    "colab_type": "code",
    "id": "GliXnK2Ph7f_",
    "outputId": "f73ca2f9-1e04-41ec-fc7f-471ece0c31ac"
   },
   "outputs": [],
   "source": [
    "A = [1, 2, 3]\n",
    "del A[1]\n",
    "\n",
    "print(A)"
   ]
  },
  {
   "cell_type": "markdown",
   "metadata": {
    "colab_type": "text",
    "collapsed": true,
    "id": "8alBXVY2h7gG",
    "tags": [
     "en"
    ]
   },
   "source": [
    "### List Comprehensions\n",
    "\n",
    "Lists can also be created using single-line statements called *list comprehensions* :\n",
    "\n"
   ]
  },
  {
   "cell_type": "code",
   "execution_count": null,
   "metadata": {
    "colab": {},
    "colab_type": "code",
    "id": "iLZ06hY2h7gH",
    "outputId": "e2b75254-c8c0-45f1-e492-882f70c3480e",
    "tags": [
     "en"
    ]
   },
   "outputs": [],
   "source": [
    "# For each i in [0, 10), i squared will be added into the list:\n",
    "L = [x**2 for x in range(10)] \n",
    "print(L)"
   ]
  },
  {
   "cell_type": "code",
   "execution_count": null,
   "metadata": {
    "colab": {},
    "colab_type": "code",
    "id": "l2FTIizUiAMM"
   },
   "outputs": [],
   "source": []
  }
 ],
 "metadata": {
  "celltoolbar": "Tags",
  "colab": {
   "name": "p4_lists.ipynb",
   "provenance": [],
   "version": "0.3.2"
  },
  "kernelspec": {
   "display_name": "Python 3",
   "language": "python",
   "name": "python3"
  },
  "language_info": {
   "codemirror_mode": {
    "name": "ipython",
    "version": 3
   },
   "file_extension": ".py",
   "mimetype": "text/x-python",
   "name": "python",
   "nbconvert_exporter": "python",
   "pygments_lexer": "ipython3",
   "version": "3.7.5"
  }
 },
 "nbformat": 4,
 "nbformat_minor": 1
}

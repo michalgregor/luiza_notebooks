{
 "cells": [
  {
   "cell_type": "markdown",
   "metadata": {
    "colab_type": "text",
    "collapsed": true,
    "id": "bR3ML8e9hlS-",
    "tags": [
     "en"
    ]
   },
   "source": [
    "## Loops\n",
    "\n",
    "In Python one does not iterate using classic numeric `for` loops. One always iterates through an object – either through some container of other objects (i.e. carrying out certain operations for each object) or through a generator – an auxiliary object, which generates things on the fly.\n",
    "\n",
    "### An Auxiliary object of type `range`\n",
    "\n",
    "In Python a numeric `for` loop is implemented using an axuliary object `range`; `range(a)` corresponds to a sequence of numbers from `0` to `a` with step `1` (so that `a` is the first number, which does not belong into the sequence), i.e.:\n",
    "\n"
   ]
  },
  {
   "cell_type": "markdown",
   "metadata": {},
   "source": [
    "## Cykly\n",
    "\n",
    "V Python-e sa neiteruje priamo pomocou klasického číselného cyklu `for`. Iterácia je vždy cez nejaký objekt – buď cez určitý kontajner objektov (t.j. že určitá operácia sa vykoná pre každý objekt) alebo cez generátor – pomocný objekt, ktorý generuje čísla za behu.\n",
    "\n",
    "### Pomocný objekt typu `range`\n",
    "\n",
    "V Python-e sa takýto typ cyklu implementuje pomoc pomocného objektu `range`. `range(a)` je postupnosť čísel od `0` po `a` s krokom `1` (tak, že `a` už do postupnosti nepatrí), t.j.:\n",
    "\n"
   ]
  },
  {
   "cell_type": "code",
   "execution_count": null,
   "metadata": {
    "colab": {},
    "colab_type": "code",
    "id": "HRNACdFAhlTH",
    "outputId": "f88a0a66-3b26-4c29-f15f-e5df1fcd931a",
    "tags": [
     "en"
    ]
   },
   "outputs": [],
   "source": [
    "print(list(range(10)))  # in order to print the sequence of numbers\n",
    "                        # all at once, we first turn it into a list"
   ]
  },
  {
   "cell_type": "markdown",
   "metadata": {
    "colab_type": "text",
    "id": "qgVASP3FhlTY",
    "tags": [
     "en"
    ]
   },
   "source": [
    "If we would like to sequence to start from a different intial number, we can instead use the version with two arguments `range(a, b)`, e.g.:\n",
    "\n"
   ]
  },
  {
   "cell_type": "code",
   "execution_count": null,
   "metadata": {
    "colab": {},
    "colab_type": "code",
    "id": "ZdgxvcorhlTb",
    "outputId": "b08756e7-630e-4358-c406-2ae1e9c47d51",
    "tags": [
     "en"
    ]
   },
   "outputs": [],
   "source": [
    "print(list(range(2, 10)))     # a sequence from 2 to 10 with step 1"
   ]
  },
  {
   "cell_type": "markdown",
   "metadata": {
    "colab_type": "text",
    "id": "zYmSCVyLhlTm",
    "tags": [
     "en"
    ]
   },
   "source": [
    "If we want to change the step size, there is a version with three arguments `range(a, b, s)`, where `s` is the step size:\n",
    "\n"
   ]
  },
  {
   "cell_type": "code",
   "execution_count": null,
   "metadata": {
    "colab": {},
    "colab_type": "code",
    "id": "oh75EtkhhlTo",
    "outputId": "0b15850c-914b-4a44-a123-5128564033f8",
    "tags": [
     "en"
    ]
   },
   "outputs": [],
   "source": [
    "print(list(range(2, 10, 3)))  # a sequence from 2 to 10 with step 3"
   ]
  },
  {
   "cell_type": "markdown",
   "metadata": {
    "colab_type": "text",
    "id": "VPDJtcurhlTx",
    "tags": [
     "en"
    ]
   },
   "source": [
    "### A `for` Loop\n",
    "\n",
    "If we now want to implement a `for` loop that will iterate from 0 to 10 with step size 1, we can do so using an auxialiary object `range`. We know that to get a `range` object with such paramters, we simply need to call `range(10)`. The `for` loop will then look as follows:\n",
    "\n"
   ]
  },
  {
   "cell_type": "code",
   "execution_count": null,
   "metadata": {
    "colab": {},
    "colab_type": "code",
    "id": "jgBOyaJyhlTz",
    "outputId": "b28623b1-a849-418b-924c-75f150ed4b03",
    "tags": [
     "en"
    ]
   },
   "outputs": [],
   "source": [
    "for i in range(10):   # for each i in range(10), print i\n",
    "    print(i)"
   ]
  },
  {
   "cell_type": "markdown",
   "metadata": {
    "colab_type": "text",
    "id": "9kVsCsqahlT8",
    "tags": [
     "en"
    ]
   },
   "source": [
    "#### Parallel Iteration\n",
    "\n",
    "In Python it is possible to iterate over two objects in parallel – using function `zip`:\n",
    "\n"
   ]
  },
  {
   "cell_type": "code",
   "execution_count": null,
   "metadata": {
    "colab": {},
    "colab_type": "code",
    "id": "lXnCbF59hlT_",
    "outputId": "d81d224f-4bb5-4d6a-cab3-028e2de2f644"
   },
   "outputs": [],
   "source": [
    "for i, j in zip(range(0, 5), range(5, 10)):\n",
    "    print(i, j)"
   ]
  },
  {
   "cell_type": "markdown",
   "metadata": {
    "colab_type": "text",
    "id": "i8KZUTwQhlUI",
    "tags": [
     "en"
    ]
   },
   "source": [
    "<div style=\"background-color: #C2EB66; padding: 15px; padding-top: 5px; margin-top: 10px; margin-left:-15px\">\n",
    "<h2>Task</h2>\n",
    "\n",
    "Write Python code that will print all even numbers in the range from 0 to 10 using a ``for`` loop:\n",
    "</div>"
   ]
  },
  {
   "cell_type": "code",
   "execution_count": null,
   "metadata": {
    "colab": {},
    "colab_type": "code",
    "id": "8-gupMoUhlUK"
   },
   "outputs": [],
   "source": []
  },
  {
   "cell_type": "markdown",
   "metadata": {
    "colab_type": "text",
    "id": "5Yf2wtdQhlUS",
    "tags": [
     "en"
    ]
   },
   "source": [
    "### A `while` Loop\n",
    "\n",
    "Just as other languages, Python has a `while` loop in addition to the `for` loop. A `while` loop iterates as long as a certain condition is met:\n",
    "\n"
   ]
  },
  {
   "cell_type": "code",
   "execution_count": null,
   "metadata": {
    "colab": {},
    "colab_type": "code",
    "id": "Yi5uLHfwhlUc",
    "outputId": "cc853bd1-993a-484c-ce58-e482cd5dfcbb"
   },
   "outputs": [],
   "source": [
    "c = 2\n",
    "while c < 100:\n",
    "    c **= 2\n",
    "    print(c)"
   ]
  },
  {
   "cell_type": "code",
   "execution_count": null,
   "metadata": {
    "colab": {},
    "colab_type": "code",
    "id": "8r0uvPzphnp7"
   },
   "outputs": [],
   "source": []
  }
 ],
 "metadata": {
  "celltoolbar": "Tags",
  "colab": {
   "collapsed_sections": [],
   "name": "p2_loops.ipynb",
   "provenance": [],
   "version": "0.3.2"
  },
  "kernelspec": {
   "display_name": "Python 3",
   "language": "python",
   "name": "python3"
  },
  "language_info": {
   "codemirror_mode": {
    "name": "ipython",
    "version": 3
   },
   "file_extension": ".py",
   "mimetype": "text/x-python",
   "name": "python",
   "nbconvert_exporter": "python",
   "pygments_lexer": "ipython3",
   "version": "3.7.5"
  }
 },
 "nbformat": 4,
 "nbformat_minor": 1
}

{
 "cells": [
  {
   "cell_type": "markdown",
   "metadata": {
    "colab_type": "text",
    "id": "zJ_L2jGhiQEX",
    "tags": [
     "en"
    ]
   },
   "source": [
    "## The `numpy` Package\n",
    "\n",
    "We have already mentioned the `numpy` package in one of our notebooks. It is one of the most commonly used Python packages. It includes n-dimensional arrays, matrices, it implements the basic mathematical operations over them etc.\n",
    "\n",
    "### Creation a New `numpy` Array\n",
    "\n",
    "When using the `numpy` package, the first step is to import is, of course. The package is usually imported under the shortened name `np`. Arrays can then be created using function `array`, which receives a Python list as an argument, e.g.:\n",
    "\n"
   ]
  },
  {
   "cell_type": "code",
   "execution_count": null,
   "metadata": {
    "colab": {},
    "colab_type": "code",
    "id": "AUxp0PfKiQEg",
    "outputId": "591d74ec-04a2-4152-e864-f7d76e7e87d1"
   },
   "outputs": [],
   "source": [
    "import numpy as np\n",
    "\n",
    "A = np.array([[1, 2.5, 3], [4, 5, 6], [7, 8, 9]])\n",
    "\n",
    "print(A)"
   ]
  },
  {
   "cell_type": "markdown",
   "metadata": {
    "colab_type": "text",
    "id": "lkHUT0xYiQEz",
    "tags": [
     "en"
    ]
   },
   "source": [
    "### Creating Special Arrays\n",
    "\n",
    "There are several built-in function, which enable easier creation of commonly used special arrays. The shape of the array is passed in a list – `[2, 2]` – or as a tuple – `(2, 2)`:\n",
    "\n"
   ]
  },
  {
   "cell_type": "code",
   "execution_count": null,
   "metadata": {
    "colab": {},
    "colab_type": "code",
    "id": "8nm6N0T0iQE3",
    "outputId": "8bc1bb30-cd7e-41e9-c8ef-bfd283ec8587",
    "tags": [
     "en"
    ]
   },
   "outputs": [],
   "source": [
    "# Creating an all-zeros array.\n",
    "A = np.zeros((3, 4))\n",
    "print(\"A = \\n{}\\n\".format(A))\n",
    "\n",
    "# Creating an all-ones array.\n",
    "B = np.ones((3, 4))\n",
    "print(\"B = \\n{}\\n\".format(B))\n",
    "\n",
    "# Creating an array filled with a constant.\n",
    "C = np.full((3, 4), 7)\n",
    "print(\"C = \\n{}\\n\".format(C))\n",
    "\n",
    "# Creating a square matrix with ones at\n",
    "#the diagonal and zeros elsewhere.\n",
    "D = np.eye(4)\n",
    "print(\"D = \\n{}\\n\".format(D))"
   ]
  },
  {
   "cell_type": "markdown",
   "metadata": {
    "colab_type": "text",
    "id": "ZCTVQcTPiQFD",
    "tags": [
     "en"
    ]
   },
   "source": [
    "Arrays can also be higher-dimensional, e.g.:\n",
    "\n"
   ]
  },
  {
   "cell_type": "code",
   "execution_count": null,
   "metadata": {
    "colab": {},
    "colab_type": "code",
    "id": "h4De9t8ziQFG",
    "outputId": "239a81e6-d586-4fb8-bd10-0a597c82e70f"
   },
   "outputs": [],
   "source": [
    "A = np.zeros([2, 2, 3])\n",
    "print(A)"
   ]
  },
  {
   "cell_type": "markdown",
   "metadata": {
    "colab_type": "text",
    "id": "gjgpJK_aiQFY",
    "tags": [
     "en"
    ]
   },
   "source": [
    "There are also functions, which can create random arrays; e.g. to generate a $3 \\times 3$ array with uniformly random elements from interval $[0, 5)$.\n",
    "\n"
   ]
  },
  {
   "cell_type": "code",
   "execution_count": null,
   "metadata": {
    "colab": {},
    "colab_type": "code",
    "id": "1FHiWNXiiQFa",
    "outputId": "241dba08-8288-426d-fc2c-97a1d41e680a"
   },
   "outputs": [],
   "source": [
    "A = np.random.uniform(0, 5, (3, 3))\n",
    "print(A)"
   ]
  },
  {
   "cell_type": "markdown",
   "metadata": {
    "colab_type": "text",
    "id": "XpcwammeiQFk",
    "tags": [
     "en"
    ]
   },
   "source": [
    "### Indexing Elements of an Array\n",
    "\n",
    "The individual elements of an array are indexed by listing their coordinates separated by commas in square brackets:\n",
    "\n"
   ]
  },
  {
   "cell_type": "code",
   "execution_count": null,
   "metadata": {
    "colab": {},
    "colab_type": "code",
    "id": "PlkrVxoliQFn",
    "outputId": "30c39ba4-87de-49a1-f17d-8a485558e040"
   },
   "outputs": [],
   "source": [
    "A = np.array([[1, 2, 3], [4, 5, 6]])\n",
    "print(\"A = \\n{}\\n\".format(A))\n",
    "\n",
    "a = A[0, 0]\n",
    "print(\"A[0, 0] = {}\".format(a))\n",
    "\n",
    "b = A[0, 1]\n",
    "print(\"A[0, 1] = {}\".format(b))"
   ]
  },
  {
   "cell_type": "markdown",
   "metadata": {
    "colab_type": "text",
    "id": "V6-BGm5CiQFx",
    "tags": [
     "en"
    ]
   },
   "source": [
    "A colon `:` can be sued to address a segment of elements along a certain dimension:\n",
    "\n"
   ]
  },
  {
   "cell_type": "code",
   "execution_count": null,
   "metadata": {
    "colab": {},
    "colab_type": "code",
    "id": "E_oJOHcliQFz",
    "outputId": "5428091f-91da-405a-9391-4ce5212b4ea4"
   },
   "outputs": [],
   "source": [
    "A = np.array([[1, 2, 3], [4, 5, 6]])\n",
    "print(\"A = \\n{}\\n\".format(A))\n",
    "\n",
    "a = A[:2, 1]\n",
    "print(\"A[:2, 1] = {}\\n\".format(a))\n",
    "\n",
    "b = A[:, 0]\n",
    "print(\"A[:, 0] = {}\\n\".format(b))\n",
    "\n",
    "c = A[:2, :2]\n",
    "print(\"A[:2, :2] = \\n{}\".format(c))"
   ]
  },
  {
   "cell_type": "markdown",
   "metadata": {
    "colab_type": "text",
    "id": "htcMxAcbiQF7",
    "tags": [
     "en"
    ]
   },
   "source": [
    "In a way similar to lists, `numpy` array also support indexing from the end on the array using negative indices.\n",
    "\n",
    "### The Shape of an Array\n",
    "\n",
    "Each array has a certain shape; it can be determined using attribute `.shape`:\n",
    "\n"
   ]
  },
  {
   "cell_type": "code",
   "execution_count": null,
   "metadata": {
    "colab": {},
    "colab_type": "code",
    "id": "vtIVD_VNiQF_",
    "outputId": "58669589-2b2e-49a2-bc6c-e9c3ee06dfec"
   },
   "outputs": [],
   "source": [
    "A = np.zeros([2, 2, 3])\n",
    "print(A.shape)"
   ]
  },
  {
   "cell_type": "markdown",
   "metadata": {
    "colab_type": "text",
    "id": "rebBl-6aiQGH",
    "tags": [
     "en"
    ]
   },
   "source": [
    "The shape of an array can be modified using function `np.reshape`:\n",
    "\n"
   ]
  },
  {
   "cell_type": "code",
   "execution_count": null,
   "metadata": {
    "colab": {},
    "colab_type": "code",
    "id": "vlSqV4H8iQGJ",
    "outputId": "cf8912e7-ef61-4df2-cc49-4914b9981ac6",
    "tags": [
     "en"
    ]
   },
   "outputs": [],
   "source": [
    "A = np.zeros([2, 2, 3])\n",
    "print(\"A.shape: {}\".format(A.shape))\n",
    "\n",
    "B = np.reshape(A, [3, 2, 2])\n",
    "print(\"B.shape: {}\".format(B.shape))\n",
    "\n",
    "# The size in one dimension can be computed automatically,\n",
    "# if we enter -1 instead of it.\n",
    "C = np.reshape(A, [3, -1, 2])\n",
    "print(\"C.shape: {}\".format(C.shape))"
   ]
  },
  {
   "cell_type": "markdown",
   "metadata": {
    "colab_type": "text",
    "id": "1936O_mKiQGR",
    "tags": [
     "en"
    ]
   },
   "source": [
    "An array can be transposed using function `.transpose`:\n",
    "\n"
   ]
  },
  {
   "cell_type": "code",
   "execution_count": null,
   "metadata": {
    "colab": {},
    "colab_type": "code",
    "id": "df2MuHPkiQGT",
    "outputId": "70a041df-0740-4891-f748-271827172bcc"
   },
   "outputs": [],
   "source": [
    "A = np.array([[1, 2, 3], [4, 5, 6]])\n",
    "print(\"A = \\n{}\\n\".format(A))\n",
    "\n",
    "AT = A.transpose()\n",
    "print(\"AT = \\n{}\\n\".format(AT))"
   ]
  },
  {
   "cell_type": "markdown",
   "metadata": {
    "colab_type": "text",
    "id": "f3NWrX8UiQGZ",
    "tags": [
     "en"
    ]
   },
   "source": [
    "### Arithmetic Operations with Arrays\n",
    "\n",
    "Arrays support the basic arithmetic operations, such as addition or multiplication. These all operate element-wise:\n",
    "\n"
   ]
  },
  {
   "cell_type": "code",
   "execution_count": null,
   "metadata": {
    "colab": {},
    "colab_type": "code",
    "id": "TXqeipPJiQGb",
    "outputId": "40902877-a745-4a15-88b7-f8f34c318e72",
    "tags": [
     "en"
    ]
   },
   "outputs": [],
   "source": [
    "A = np.array([[1, 2, 3], [4, 5, 6]])\n",
    "B = np.array([[6, 5, 4], [3, 2, 1]])\n",
    "print(\"A = \\n{}\\n\".format(A))\n",
    "print(\"B = \\n{}\\n\".format(B))\n",
    "\n",
    "# Element-wise addition:\n",
    "C = A + B\n",
    "print(\"A + B = \\n{}\\n\".format(C))\n",
    "\n",
    "# Element-wise subtraction:\n",
    "C = A - B\n",
    "print(\"A - B = \\n{}\\n\".format(C))\n",
    "\n",
    "# Element-wise multiplication:\n",
    "C = A * B\n",
    "print(\"A * B = \\n{}\\n\".format(C))\n",
    "\n",
    "# Element-wise division:\n",
    "C = A / B\n",
    "print(\"A / B = \\n{}\\n\".format(C))"
   ]
  },
  {
   "cell_type": "markdown",
   "metadata": {
    "colab_type": "text",
    "id": "hg07WTRgiQGi",
    "tags": [
     "en"
    ]
   },
   "source": [
    "The `numpy` package also contains version of some standard mathematical function, such as `sin`, `cos` or `exp`, which can operate on arrays:\n",
    "\n"
   ]
  },
  {
   "cell_type": "code",
   "execution_count": null,
   "metadata": {
    "colab": {},
    "colab_type": "code",
    "id": "ry4lmtvwiQGk",
    "outputId": "672b33a0-c66b-40c7-b82c-bec63467a9cf"
   },
   "outputs": [],
   "source": [
    "A = np.array([[1, 2, 3], [4, 5, 6]])\n",
    "print(\"A = \\n{}\\n\".format(A))\n",
    "\n",
    "sinA = np.sin(A)\n",
    "print(\"sin(A) = \\n{}\\n\".format(sinA))\n",
    "\n",
    "expA = np.exp(A)\n",
    "print(\"exp(A) = \\n{}\\n\".format(expA))"
   ]
  },
  {
   "cell_type": "markdown",
   "metadata": {
    "colab_type": "text",
    "id": "sDdU282liQGr",
    "tags": [
     "en"
    ]
   },
   "source": [
    "### Algebraic Operations\n",
    "\n",
    "The standard algebraic operations are also defined for `numpy` arrays, such as the dot product, matrix product and more:\n",
    "\n"
   ]
  },
  {
   "cell_type": "code",
   "execution_count": null,
   "metadata": {
    "colab": {},
    "colab_type": "code",
    "id": "idFwMw94iQGu",
    "outputId": "97810e11-feb5-414f-d3a1-e17c28632296"
   },
   "outputs": [],
   "source": [
    "a = np.array([1, 2, 3])\n",
    "print(\"a = {}\".format(a))\n",
    "b = np.array([4, 5, 6])\n",
    "print(\"b = {}\\n\".format(b))\n",
    "\n",
    "c = np.dot(a, b)\n",
    "print(\"a.b = {}\".format(c))"
   ]
  },
  {
   "cell_type": "code",
   "execution_count": null,
   "metadata": {
    "colab": {},
    "colab_type": "code",
    "id": "sv-K5xqOiQGz",
    "outputId": "abbe104f-97ff-47c6-a081-4c0970af2811"
   },
   "outputs": [],
   "source": [
    "A = np.array([[1, 2, 3], [4, 5, 6]])\n",
    "B = np.array([[6, 5, 4], [3, 2, 1]])\n",
    "print(\"A = \\n{}\\n\".format(A))\n",
    "print(\"B = \\n{}\\n\".format(B))\n",
    "\n",
    "C = np.matmul(A, B.transpose())\n",
    "print(\"A x B = \\n{}\".format(C))"
   ]
  },
  {
   "cell_type": "markdown",
   "metadata": {
    "tags": [
     "en"
    ]
   },
   "source": [
    "Matrix multiplication actually also has a dedicated operator `@`, which can be used instead of `matmul` for better readability.\n",
    "\n"
   ]
  },
  {
   "cell_type": "code",
   "execution_count": null,
   "metadata": {},
   "outputs": [],
   "source": [
    "C = A @ B.transpose()\n",
    "print(\"A x B = \\n{}\".format(C))"
   ]
  },
  {
   "cell_type": "markdown",
   "metadata": {
    "colab_type": "text",
    "id": "6pEVSElGiQG6",
    "tags": [
     "en"
    ]
   },
   "source": [
    "### Group Comparisons and Indexing\n",
    "\n",
    "It is possible to perform group comparisons on `numpy` array, such as identifying all elements of an array greater than or equal to 5. The result of such comparison is a binary array of the same shape, which specifies whether the condition held for each correspoding element or not.\n",
    "\n"
   ]
  },
  {
   "cell_type": "code",
   "execution_count": null,
   "metadata": {
    "colab": {},
    "colab_type": "code",
    "id": "THpszLfwiQG7",
    "outputId": "6319f3d9-19b3-463b-a040-7f4df6cb8e7f"
   },
   "outputs": [],
   "source": [
    "A = np.array([[1, 5, 2], [7, 3, 4], [8, 0, 2]])\n",
    "print(A >= 5)"
   ]
  },
  {
   "cell_type": "markdown",
   "metadata": {
    "colab_type": "text",
    "id": "LnzwK52ZiQHB",
    "tags": [
     "en"
    ]
   },
   "source": [
    "Similarly, it is also possible to index elements according to some such condition. One can use function `np.where` to accomplish this: it will select the indices of any elements for which the value is `True` in the binary array. The resulting indices can be used as an index to the original array. If we want to assign 111 to every element greater than or equal to 5, for an instance, we can do that as follows:\n",
    "\n"
   ]
  },
  {
   "cell_type": "code",
   "execution_count": null,
   "metadata": {
    "colab": {},
    "colab_type": "code",
    "id": "bW5hQ6opiQHE",
    "outputId": "5b6541d3-3835-4f58-e411-a5977a536da5"
   },
   "outputs": [],
   "source": [
    "A = np.array([[1, 5, 2], [7, 3, 4], [8, 0, 2]])\n",
    "index = np.where(A >= 5)\n",
    "A[index] = 111\n",
    "\n",
    "print(A)"
   ]
  },
  {
   "cell_type": "code",
   "execution_count": null,
   "metadata": {
    "colab": {},
    "colab_type": "code",
    "id": "Zo2cJCx3iTBl"
   },
   "outputs": [],
   "source": []
  }
 ],
 "metadata": {
  "celltoolbar": "Tags",
  "colab": {
   "collapsed_sections": [],
   "name": "p6_numpy.ipynb",
   "provenance": [],
   "version": "0.3.2"
  },
  "kernelspec": {
   "display_name": "Python 3",
   "language": "python",
   "name": "python3"
  },
  "language_info": {
   "codemirror_mode": {
    "name": "ipython",
    "version": 3
   },
   "file_extension": ".py",
   "mimetype": "text/x-python",
   "name": "python",
   "nbconvert_exporter": "python",
   "pygments_lexer": "ipython3",
   "version": "3.7.5"
  }
 },
 "nbformat": 4,
 "nbformat_minor": 1
}

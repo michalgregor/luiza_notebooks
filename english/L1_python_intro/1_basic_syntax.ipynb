{
 "cells": [
  {
   "cell_type": "markdown",
   "metadata": {
    "colab_type": "text",
    "id": "aMGbnE2qLONP"
   },
   "source": [
    "<div class=\"clearfix\" style=\"padding: 10px; padding-left: 0px\">\n",
    "<img src=\"https://raw.githubusercontent.com/jupyter/nature-demo/master/images/jupyter-logo.png\" width=\"150px\" style=\"display: inline-block; margin-top: 5px;\">\n",
    "<img src=\"https://www.python.org/static/community_logos/python-logo-master-v3-TM.png\" width=\"150px\" style=\"display: inline-block; margin-top: 5px;\">\n",
    "</div>"
   ]
  },
  {
   "cell_type": "markdown",
   "metadata": {
    "tags": [
     "en"
    ]
   },
   "source": [
    "## A Crash Course for Python (3.x)\n",
    "\n",
    "This introduction to Python has the form of an iPython notebook. Notebooks allow us to combine formatted text and images with source code, which can be executed, tested, edited, used to generate interactive plots etc. directly from the notebook.\n",
    "\n"
   ]
  },
  {
   "cell_type": "markdown",
   "metadata": {
    "tags": [
     "en"
    ]
   },
   "source": [
    "### How to Run the Code?\n",
    "\n",
    "The code can be run as follows:\n",
    "\n",
    "# We select a cell containing the code by clicking on it.\n",
    "# We press `SHIFT+ENTER` or click on the play button.\n",
    "The details of how to use the notebook interface depend on whether you are using Jupyter notebooks, Google Colab notebooks, Kaggle notebooks or a still different version. It will therefore be easiest to look them up in the documentation for the corresponding interface.\n",
    "\n"
   ]
  },
  {
   "cell_type": "markdown",
   "metadata": {
    "tags": [
     "en"
    ]
   },
   "source": [
    "## Help\n",
    "\n",
    "Notebook documentation can be found in menu Help. It is also possible to make inquiry about particular functions, classes, objects etc. by entering a question mark and the identifier of the object, e.g.:\n",
    "\n"
   ]
  },
  {
   "cell_type": "code",
   "execution_count": null,
   "metadata": {
    "colab": {},
    "colab_type": "code",
    "id": "ggO03KIoLONm"
   },
   "outputs": [],
   "source": [
    "import numpy as np\n",
    "?np.arange"
   ]
  },
  {
   "cell_type": "markdown",
   "metadata": {
    "tags": [
     "en"
    ]
   },
   "source": [
    "Similarly, when you highlight some portion of the code and press `SHIFT+TAB`, this will bring up built-in documentation in a floating window. Try this out now!\n",
    "\n",
    "## The Basics of Python Syntax\n",
    "\n",
    "Variable types are not declared explicitly. We only write:\n",
    "\n",
    "```\n",
    "a = 7\n",
    "x = 1.5\n",
    "s = \"a string\"\n",
    "```\n",
    "As we can see, commands are separated using the newline character. If we want to enter several commands into the same line, we can instead separate them using a semicolon, e.g.:\n",
    "\n",
    "```\n",
    "a = 7; x = 1.5\n",
    "```\n",
    "In Python other whitespace character carry a lot of meaning as well. For an instance, code blocks are formed by identing the source code (in C++ the equivalent thing is done using \"{}\"):\n",
    "\n",
    "```\n",
    "if x == 1 and a < 10:\n",
    "    y = 5\n",
    "elif a > 17 or x == 0:\n",
    "    y = 11\n",
    "    z = 12\n",
    "else:\n",
    "    y = 0\n",
    "```\n",
    "The indentation must be consistent (e.g. you always indent using 4 spaces). Incosistent indentation is considered a syntatic error, e.g.:\n",
    "\n"
   ]
  },
  {
   "cell_type": "code",
   "execution_count": null,
   "metadata": {
    "colab": {
     "base_uri": "https://localhost:8080/",
     "height": 133
    },
    "colab_type": "code",
    "id": "_NgCnFswLOOK",
    "outputId": "cd183441-fa88-4a66-eabe-7d92b85ba65f"
   },
   "outputs": [],
   "source": [
    "x = 1; a = 7\n",
    "\n",
    "if x == 1 and a < 10:\n",
    "    y = 5\n",
    "elif a > 17 or x == 0:\n",
    "    y = 11\n",
    "      z = 12\n",
    "else:\n",
    "    y = 0"
   ]
  },
  {
   "cell_type": "markdown",
   "metadata": {
    "tags": [
     "en"
    ]
   },
   "source": [
    "Comments are marked with character `#` in Python, e.g.:\n",
    "\n"
   ]
  },
  {
   "cell_type": "code",
   "execution_count": null,
   "metadata": {
    "tags": [
     "en"
    ]
   },
   "outputs": [],
   "source": [
    "# This is a comment.\n",
    "x = 2   # assigns value 2 to x"
   ]
  },
  {
   "cell_type": "markdown",
   "metadata": {
    "tags": [
     "en"
    ]
   },
   "source": [
    "### Function Declaration\n",
    "\n",
    "Functions are declared using the keyword `def` in Python. The body of the function is a code block, therefore it is indented. The return value is returned using the built-in keyword `return` similarly to C/C++.\n",
    "\n"
   ]
  },
  {
   "cell_type": "code",
   "execution_count": null,
   "metadata": {
    "tags": [
     "en"
    ]
   },
   "outputs": [],
   "source": [
    "# A function, which sums numbers a and b:\n",
    "def plus(a, b):\n",
    "    return a + b"
   ]
  },
  {
   "cell_type": "markdown",
   "metadata": {
    "tags": [
     "en"
    ]
   },
   "source": [
    "## Outputing Text\n",
    "\n",
    "### Simple Output\n",
    "\n",
    "In Python, textual output can be produced using function `print`, e.g.:\n",
    "\n"
   ]
  },
  {
   "cell_type": "code",
   "execution_count": null,
   "metadata": {
    "colab": {},
    "colab_type": "code",
    "id": "ejGzCcehLOO4"
   },
   "outputs": [],
   "source": [
    "x = 15\n",
    "print(x)"
   ]
  },
  {
   "cell_type": "markdown",
   "metadata": {
    "tags": [
     "en"
    ]
   },
   "source": [
    "Printing also works with more complex objects, such as entire arrays:\n",
    "\n"
   ]
  },
  {
   "cell_type": "code",
   "execution_count": null,
   "metadata": {
    "colab": {},
    "colab_type": "code",
    "id": "BFxGzLDdLOPG"
   },
   "outputs": [],
   "source": [
    "import numpy as np\n",
    "ar = np.array([1, 2, 3, 4])\n",
    "print(ar)"
   ]
  },
  {
   "cell_type": "markdown",
   "metadata": {
    "tags": [
     "en"
    ]
   },
   "source": [
    "### Formatted Output\n",
    "\n",
    "Formatted output is a more interesting case. It can be done using string's built-in function `format`:\n",
    "\n"
   ]
  },
  {
   "cell_type": "code",
   "execution_count": null,
   "metadata": {
    "tags": [
     "en"
    ]
   },
   "outputs": [],
   "source": [
    "x = 15\n",
    "y = 20\n",
    "print(\"The results are x = {}, y = {}.\".format(x, y))"
   ]
  },
  {
   "cell_type": "markdown",
   "metadata": {
    "tags": [
     "en"
    ]
   },
   "source": [
    "I.e. we embed one or several placeholders \"`{}`\" into the string, which will be substituted by their correspoding values when function `format` is called – in this case by values of variables `x` and `y`.\n",
    "\n",
    "Better still, if you prepend `f` to the string literal (just before the quotes), you can embed any kind of expression involving local variable directly into the placeholder, e.g.:\n",
    "\n"
   ]
  },
  {
   "cell_type": "code",
   "execution_count": null,
   "metadata": {},
   "outputs": [],
   "source": [
    "x = 15\n",
    "y = 20\n",
    "print(f\"Výsledky sú x = {x}, y + 1 = {y+1}.\")"
   ]
  },
  {
   "cell_type": "markdown",
   "metadata": {
    "tags": [
     "en"
    ]
   },
   "source": [
    "More detailed information about various kinds of formatting can be found in the Python [manual](https://docs.python.org/3/library/string.html#format-string-syntax).\n",
    "\n"
   ]
  },
  {
   "cell_type": "markdown",
   "metadata": {
    "tags": [
     "en"
    ]
   },
   "source": [
    "## The Fundamental Data Types\n",
    "\n",
    "### Numeric Types\n",
    "\n",
    "From among the fundamental numeric datatypes we might want to mention the standard `int` for integers and `float` for real-valued numbers. As we have mentioned already, variable types are not declared explictly in Python. It is sufficient to enter a literal of the corresponding type:\n",
    "\n"
   ]
  },
  {
   "cell_type": "code",
   "execution_count": null,
   "metadata": {
    "colab": {
     "base_uri": "https://localhost:8080/",
     "height": 52
    },
    "colab_type": "code",
    "id": "HzLYjXz1LOPz",
    "outputId": "d4ab981c-b467-4f72-984a-7b953ce71d0d"
   },
   "outputs": [],
   "source": [
    "x = 5\n",
    "print(type(x))\n",
    "\n",
    "y = 5.5\n",
    "print(type(y))"
   ]
  },
  {
   "cell_type": "markdown",
   "metadata": {
    "tags": [
     "en"
    ]
   },
   "source": [
    "Basic operations with numbers:\n",
    "\n",
    "```\n",
    "x = 5\n",
    "\n",
    "print(x)                              # printing\n",
    "print(x + 1)                          # addition\n",
    "print(x - 1)                          # subtraction\n",
    "print(x * 2)                          # multiplication\n",
    "print(x / 2)                          # division (the result is a real number)\n",
    "print(x ** 2)                         # raising to a power\n",
    "print(x % 2)                          # modulo (the remained after integer division)\n",
    "\n",
    "x += 3                                # inkrementácia; the equivalent of x = x + 3\n",
    "print(x)\n",
    "\n",
    "x -= 3                                # decementation; the equivalent x = x - 3\n",
    "print(x)\n",
    "\n",
    "x *= 5                                # the equivalent of x = x * 5\n",
    "print(x)\n",
    "\n",
    "x /= 5                                # the equivalent of x = x / 5\n",
    "print(x)\n",
    "\n",
    "x **= 2                               # the equivalent of x = x ** 2\n",
    "print(x)\n",
    "```\n",
    "Python does not have operators `x++`, `x--`, which may be familiar to you from other languages. You should use the following instead:\n",
    "\n",
    "```\n",
    "x += 1\n",
    "x -= 1\n",
    "```\n",
    "<div style=\"background-color: #C2EB66; padding: 15px; padding-top: 5px; margin-top: 10px; margin-left:-15px\">\n",
    "<h2>Task</h2>\n",
    "\n",
    "Try some of these operations out now:\n",
    "</div>"
   ]
  },
  {
   "cell_type": "code",
   "execution_count": null,
   "metadata": {
    "colab": {},
    "colab_type": "code",
    "id": "my24CzcDLOQE"
   },
   "outputs": [],
   "source": []
  },
  {
   "cell_type": "markdown",
   "metadata": {
    "tags": [
     "en"
    ]
   },
   "source": [
    "### Bool\n",
    "\n",
    "Boolean variables are denoted `True` (true, logical 1) and `False` (false, logical 0).\n",
    "\n"
   ]
  },
  {
   "cell_type": "code",
   "execution_count": null,
   "metadata": {
    "colab": {
     "base_uri": "https://localhost:8080/",
     "height": 34
    },
    "colab_type": "code",
    "id": "komqUSO-LOQO",
    "outputId": "ee3dfdb7-34ff-4c8b-91bf-c5d907b8391e"
   },
   "outputs": [],
   "source": [
    "t = True\n",
    "f = False\n",
    "print(type(t))"
   ]
  },
  {
   "cell_type": "markdown",
   "metadata": {
    "tags": [
     "en"
    ]
   },
   "source": [
    "Boolean operations are denoted by their English names written in small letters:\n",
    "\n"
   ]
  },
  {
   "cell_type": "code",
   "execution_count": null,
   "metadata": {
    "tags": [
     "en"
    ]
   },
   "outputs": [],
   "source": [
    "t = True\n",
    "f = False\n",
    "\n",
    "print(t and f)                      # and\n",
    "print(t or f)                       # or\n",
    "print(not t)                        # negation\n",
    "print(t != f)                       # xor"
   ]
  },
  {
   "cell_type": "markdown",
   "metadata": {
    "tags": [
     "en"
    ]
   },
   "source": [
    "### Strings\n",
    "\n",
    "Strings are enclosed either in single or in double quotation marks in Python. Both kinds of notation are equivalent:\n",
    "\n"
   ]
  },
  {
   "cell_type": "code",
   "execution_count": null,
   "metadata": {
    "tags": [
     "en"
    ]
   },
   "outputs": [],
   "source": [
    "str1 = 'string number 1'\n",
    "str2 = \"string number 2\""
   ]
  },
  {
   "cell_type": "markdown",
   "metadata": {
    "tags": [
     "en"
    ]
   },
   "source": [
    "The length of a string can be determined using function `len`:\n",
    "\n"
   ]
  },
  {
   "cell_type": "code",
   "execution_count": null,
   "metadata": {
    "tags": [
     "en"
    ]
   },
   "outputs": [],
   "source": [
    "str1 = 'string number 1'\n",
    "print(len(str1))"
   ]
  },
  {
   "cell_type": "markdown",
   "metadata": {
    "tags": [
     "en"
    ]
   },
   "source": [
    "Strings can be concatenated using operator `+`:\n",
    "\n"
   ]
  },
  {
   "cell_type": "code",
   "execution_count": null,
   "metadata": {
    "tags": [
     "en"
    ]
   },
   "outputs": [],
   "source": [
    "str1 = 'string number 1'\n",
    "str2 = 'string number 2'\n",
    "str12 = str1 + ', ' + str2\n",
    "print(str12)"
   ]
  },
  {
   "cell_type": "markdown",
   "metadata": {
    "tags": [
     "en"
    ]
   },
   "source": [
    "#### Formatting\n",
    "\n",
    "The above-mentioned way of formatting text using function `.format(...)` works at the level of strings – it can be used anywhere, not just when printing stuff:\n",
    "\n"
   ]
  },
  {
   "cell_type": "code",
   "execution_count": null,
   "metadata": {
    "tags": [
     "en"
    ]
   },
   "outputs": [],
   "source": [
    "z = \"potatoes\"\n",
    "n = 4\n",
    "str1 = \"I had {} {}.\".format(n, z)\n",
    "print(str1)"
   ]
  },
  {
   "cell_type": "markdown",
   "metadata": {
    "tags": [
     "en"
    ]
   },
   "source": [
    "#### Other Operations with Strings\n",
    "\n",
    "Strings also have many other built-in functions, e.g.:\n",
    "\n"
   ]
  },
  {
   "cell_type": "code",
   "execution_count": null,
   "metadata": {
    "tags": [
     "en"
    ]
   },
   "outputs": [],
   "source": [
    "str1 = '  string number 1   '\n",
    "print(str1.capitalize())     # Capitalizes the first letter.\n",
    "print(str1.upper())          # Capitalizes all letters.\n",
    "print(str1.strip())          # Removes whitespace from the beginning\n",
    "                             # and the end of the string."
   ]
  },
  {
   "cell_type": "markdown",
   "metadata": {
    "tags": [
     "en"
    ]
   },
   "source": [
    "### Comparing Values\n",
    "\n",
    "The values of two variables are compared in a way similar to many other languages (e.g. C++):\n",
    "\n"
   ]
  },
  {
   "cell_type": "code",
   "execution_count": null,
   "metadata": {
    "tags": [
     "en"
    ]
   },
   "outputs": [],
   "source": [
    "x = 1\n",
    "\n",
    "print(x == 1)                # equality\n",
    "print(x != 1)                # inequality\n",
    "\n",
    "str1 = 'string number 1'\n",
    "str2 = 'string number 2'\n",
    "\n",
    "print(str1 == str2)          # equality\n",
    "print(str1 != str2)          # inequality"
   ]
  },
  {
   "cell_type": "code",
   "execution_count": null,
   "metadata": {
    "colab": {},
    "colab_type": "code",
    "id": "s4WffRsXLORT"
   },
   "outputs": [],
   "source": []
  }
 ],
 "metadata": {
  "celltoolbar": "Tags",
  "colab": {
   "collapsed_sections": [],
   "name": "p1_basic_syntax.ipynb",
   "provenance": [],
   "version": "0.3.2"
  },
  "kernelspec": {
   "display_name": "Python 3",
   "language": "python",
   "name": "python3"
  },
  "language_info": {
   "codemirror_mode": {
    "name": "ipython",
    "version": 3
   },
   "file_extension": ".py",
   "mimetype": "text/x-python",
   "name": "python",
   "nbconvert_exporter": "python",
   "pygments_lexer": "ipython3",
   "version": "3.8.8"
  }
 },
 "nbformat": 4,
 "nbformat_minor": 1
}

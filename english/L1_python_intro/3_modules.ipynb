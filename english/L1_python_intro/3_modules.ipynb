{
 "cells": [
  {
   "cell_type": "markdown",
   "metadata": {
    "colab_type": "text",
    "id": "G73OCUGDhzc9",
    "tags": [
     "en"
    ]
   },
   "source": [
    "## Importing Modules\n",
    "\n",
    "There is a large number of Python packages with useful functionality. At present, Python is the de-facto language of artificial intelligence and machine learning. Once a package is installed, it is only necessary to import it as a module using the keyword `import`. For an instance, module `numpy` can be imported as follows:\n",
    "\n"
   ]
  },
  {
   "cell_type": "code",
   "execution_count": null,
   "metadata": {
    "colab": {},
    "colab_type": "code",
    "id": "8aEEVV4ihzdW"
   },
   "outputs": [],
   "source": [
    "import numpy"
   ]
  },
  {
   "cell_type": "markdown",
   "metadata": {
    "colab_type": "text",
    "id": "svEN4_muhzeK",
    "tags": [
     "en"
    ]
   },
   "source": [
    "After importing the module, we can refer to its functions. The `numpy` module contains a wide range of numeric functions, tools for handling arrays and matrices and more. To compute the sine function, for an instance, we can use `numpy` as follows:\n",
    "\n"
   ]
  },
  {
   "cell_type": "code",
   "execution_count": null,
   "metadata": {
    "colab": {},
    "colab_type": "code",
    "id": "57tv8k4KhzeR",
    "outputId": "25a8d5ac-5ae8-4594-8eef-f44620c13e04"
   },
   "outputs": [],
   "source": [
    "import numpy\n",
    "\n",
    "print(numpy.sin(15))"
   ]
  },
  {
   "cell_type": "markdown",
   "metadata": {
    "colab_type": "text",
    "id": "W2cIwit8hzeh",
    "tags": [
     "en"
    ]
   },
   "source": [
    "It is often useful to import a module under some alternative, shortened name. It is possible to do this as follows:\n",
    "\n"
   ]
  },
  {
   "cell_type": "code",
   "execution_count": null,
   "metadata": {
    "colab": {},
    "colab_type": "code",
    "id": "7zS9HeQ8hzej",
    "outputId": "9cea793b-0dee-4129-f1a4-3f3461626785"
   },
   "outputs": [],
   "source": [
    "import numpy as np\n",
    "\n",
    "print(np.sin(15))"
   ]
  },
  {
   "cell_type": "markdown",
   "metadata": {
    "colab_type": "text",
    "id": "5SHq6rEThze0",
    "tags": [
     "en"
    ]
   },
   "source": [
    "It is also possible to import particular functions from modules into the current namespace. Then we do not need to refer to them using the package name at all, e.g.:\n",
    "\n"
   ]
  },
  {
   "cell_type": "code",
   "execution_count": null,
   "metadata": {
    "colab": {},
    "colab_type": "code",
    "id": "m12Vph-1hze3",
    "outputId": "2e301190-aa0a-4b83-80ca-efd7f148f1fd"
   },
   "outputs": [],
   "source": [
    "from numpy import sin\n",
    "\n",
    "print(sin(15))"
   ]
  },
  {
   "cell_type": "markdown",
   "metadata": {
    "colab_type": "text",
    "id": "QhgPcoFchzfB",
    "tags": [
     "en"
    ]
   },
   "source": [
    "We can also import everything from a module, but this alternative is rarely to be used, because it can easily result in confusing and unmaintainable code (a function with the same identifier can easily exist in multiple modules, which can lead to unforeseen clashes, functions rewriting each other and so on):\n",
    "\n"
   ]
  },
  {
   "cell_type": "code",
   "execution_count": null,
   "metadata": {
    "colab": {},
    "colab_type": "code",
    "id": "gR1qivT1hzfE",
    "outputId": "c5a90040-be3d-4291-b143-5f129f32d80b"
   },
   "outputs": [],
   "source": [
    "from numpy import *\n",
    "\n",
    "print(cos(15))"
   ]
  },
  {
   "cell_type": "markdown",
   "metadata": {
    "colab_type": "text",
    "id": "B0WqT7U1hzfQ",
    "tags": [
     "en"
    ]
   },
   "source": [
    "<div style=\"background-color: #C2EB66; padding: 15px; padding-top: 5px; margin-top: 10px; margin-left:-15px\">\n",
    "<h2>Task</h2>\n",
    "\n",
    "Use module ``numpy`` to create code, which will print the hyperbolic tangent of number 0.95.\n",
    "</div>An aid: [numpy documentation](http://lmgtfy.com/?q=numpy+docs) for those, who cannot use google. :)\n",
    "\n"
   ]
  },
  {
   "cell_type": "code",
   "execution_count": null,
   "metadata": {
    "colab": {},
    "colab_type": "code",
    "id": "j70FTY6LhzfS"
   },
   "outputs": [],
   "source": []
  }
 ],
 "metadata": {
  "celltoolbar": "Tags",
  "colab": {
   "collapsed_sections": [],
   "name": "p3_modules.ipynb",
   "provenance": [],
   "version": "0.3.2"
  },
  "kernelspec": {
   "display_name": "Python 3",
   "language": "python",
   "name": "python3"
  },
  "language_info": {
   "codemirror_mode": {
    "name": "ipython",
    "version": 3
   },
   "file_extension": ".py",
   "mimetype": "text/x-python",
   "name": "python",
   "nbconvert_exporter": "python",
   "pygments_lexer": "ipython3",
   "version": "3.7.5"
  }
 },
 "nbformat": 4,
 "nbformat_minor": 1
}
